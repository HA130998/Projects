{
 "cells": [
  {
   "cell_type": "code",
   "execution_count": 1,
   "id": "d361e831",
   "metadata": {},
   "outputs": [],
   "source": [
    "import pandas as pd\n",
    "import numpy as np\n",
    "from PIL import Image\n",
    "import matplotlib.pyplot as plt\n",
    "from dnn_utils_v2 import sigmoid, sigmoid_backward, relu, relu_backward"
   ]
  },
  {
   "cell_type": "code",
   "execution_count": 22,
   "id": "97a954bc",
   "metadata": {},
   "outputs": [],
   "source": [
    "data = pd.read_csv('train.csv')"
   ]
  },
  {
   "cell_type": "code",
   "execution_count": 3,
   "id": "661fad08",
   "metadata": {
    "scrolled": true
   },
   "outputs": [
    {
     "data": {
      "text/html": [
       "<div>\n",
       "<style scoped>\n",
       "    .dataframe tbody tr th:only-of-type {\n",
       "        vertical-align: middle;\n",
       "    }\n",
       "\n",
       "    .dataframe tbody tr th {\n",
       "        vertical-align: top;\n",
       "    }\n",
       "\n",
       "    .dataframe thead th {\n",
       "        text-align: right;\n",
       "    }\n",
       "</style>\n",
       "<table border=\"1\" class=\"dataframe\">\n",
       "  <thead>\n",
       "    <tr style=\"text-align: right;\">\n",
       "      <th></th>\n",
       "      <th>image</th>\n",
       "      <th>category</th>\n",
       "    </tr>\n",
       "  </thead>\n",
       "  <tbody>\n",
       "    <tr>\n",
       "      <th>0</th>\n",
       "      <td>2823080.jpg</td>\n",
       "      <td>1</td>\n",
       "    </tr>\n",
       "    <tr>\n",
       "      <th>1</th>\n",
       "      <td>2870024.jpg</td>\n",
       "      <td>1</td>\n",
       "    </tr>\n",
       "    <tr>\n",
       "      <th>2</th>\n",
       "      <td>2662125.jpg</td>\n",
       "      <td>2</td>\n",
       "    </tr>\n",
       "    <tr>\n",
       "      <th>3</th>\n",
       "      <td>2900420.jpg</td>\n",
       "      <td>3</td>\n",
       "    </tr>\n",
       "    <tr>\n",
       "      <th>4</th>\n",
       "      <td>2804883.jpg</td>\n",
       "      <td>2</td>\n",
       "    </tr>\n",
       "  </tbody>\n",
       "</table>\n",
       "</div>"
      ],
      "text/plain": [
       "         image  category\n",
       "0  2823080.jpg         1\n",
       "1  2870024.jpg         1\n",
       "2  2662125.jpg         2\n",
       "3  2900420.jpg         3\n",
       "4  2804883.jpg         2"
      ]
     },
     "execution_count": 3,
     "metadata": {},
     "output_type": "execute_result"
    }
   ],
   "source": [
    "data.head()"
   ]
  },
  {
   "cell_type": "code",
   "execution_count": 23,
   "id": "4d66bdd2",
   "metadata": {
    "collapsed": true
   },
   "outputs": [
    {
     "data": {
      "text/html": [
       "<div>\n",
       "<style scoped>\n",
       "    .dataframe tbody tr th:only-of-type {\n",
       "        vertical-align: middle;\n",
       "    }\n",
       "\n",
       "    .dataframe tbody tr th {\n",
       "        vertical-align: top;\n",
       "    }\n",
       "\n",
       "    .dataframe thead th {\n",
       "        text-align: right;\n",
       "    }\n",
       "</style>\n",
       "<table border=\"1\" class=\"dataframe\">\n",
       "  <thead>\n",
       "    <tr style=\"text-align: right;\">\n",
       "      <th></th>\n",
       "      <th>category</th>\n",
       "    </tr>\n",
       "  </thead>\n",
       "  <tbody>\n",
       "    <tr>\n",
       "      <th>count</th>\n",
       "      <td>6252.000000</td>\n",
       "    </tr>\n",
       "    <tr>\n",
       "      <th>mean</th>\n",
       "      <td>2.657550</td>\n",
       "    </tr>\n",
       "    <tr>\n",
       "      <th>std</th>\n",
       "      <td>1.528998</td>\n",
       "    </tr>\n",
       "    <tr>\n",
       "      <th>min</th>\n",
       "      <td>1.000000</td>\n",
       "    </tr>\n",
       "    <tr>\n",
       "      <th>25%</th>\n",
       "      <td>1.000000</td>\n",
       "    </tr>\n",
       "    <tr>\n",
       "      <th>50%</th>\n",
       "      <td>2.000000</td>\n",
       "    </tr>\n",
       "    <tr>\n",
       "      <th>75%</th>\n",
       "      <td>4.000000</td>\n",
       "    </tr>\n",
       "    <tr>\n",
       "      <th>max</th>\n",
       "      <td>5.000000</td>\n",
       "    </tr>\n",
       "  </tbody>\n",
       "</table>\n",
       "</div>"
      ],
      "text/plain": [
       "          category\n",
       "count  6252.000000\n",
       "mean      2.657550\n",
       "std       1.528998\n",
       "min       1.000000\n",
       "25%       1.000000\n",
       "50%       2.000000\n",
       "75%       4.000000\n",
       "max       5.000000"
      ]
     },
     "execution_count": 23,
     "metadata": {},
     "output_type": "execute_result"
    }
   ],
   "source": [
    "data.describe()"
   ]
  },
  {
   "cell_type": "code",
   "execution_count": 4,
   "id": "f70b3bcf",
   "metadata": {},
   "outputs": [
    {
     "name": "stdout",
     "output_type": "stream",
     "text": [
      "Requirement already satisfied: opencv-python in /Users/harita_addanki/opt/anaconda3/lib/python3.9/site-packages (4.7.0.72)\n",
      "Requirement already satisfied: numpy>=1.17.0 in /Users/harita_addanki/opt/anaconda3/lib/python3.9/site-packages (from opencv-python) (1.21.5)\n",
      "Note: you may need to restart the kernel to use updated packages.\n"
     ]
    }
   ],
   "source": [
    "pip install opencv-python"
   ]
  },
  {
   "cell_type": "code",
   "execution_count": 5,
   "id": "5e4b172f",
   "metadata": {
    "scrolled": true
   },
   "outputs": [],
   "source": [
    "import cv2"
   ]
  },
  {
   "cell_type": "code",
   "execution_count": 24,
   "id": "6ae95949",
   "metadata": {},
   "outputs": [
    {
     "data": {
      "text/plain": [
       "2120"
      ]
     },
     "execution_count": 24,
     "metadata": {},
     "output_type": "execute_result"
    }
   ],
   "source": [
    "sum(data['category']==1)"
   ]
  },
  {
   "cell_type": "code",
   "execution_count": 142,
   "id": "997f93c3",
   "metadata": {},
   "outputs": [],
   "source": [
    "data_x = data['image']\n",
    "labels = data['category'].replace({1:1,2:0,3:0,4:0,5:0})"
   ]
  },
  {
   "cell_type": "code",
   "execution_count": 143,
   "id": "5a276306",
   "metadata": {},
   "outputs": [],
   "source": [
    "from sklearn.model_selection import train_test_split"
   ]
  },
  {
   "cell_type": "code",
   "execution_count": 144,
   "id": "48037ff4",
   "metadata": {},
   "outputs": [],
   "source": [
    "def pre_process(data): \n",
    "    data = data\n",
    "    #x = np.array(data['image'])\n",
    "    #la = np.array(data['category'])\n",
    "    new = []\n",
    "    for i in data:\n",
    "        y = cv2.imread(i , 1)\n",
    "        res = cv2.resize(y , (8,15))\n",
    "        new.append(res)\n",
    "    new = np.array(new)\n",
    "    print(data.info())\n",
    "    print(data.describe())\n",
    "    return new"
   ]
  },
  {
   "cell_type": "code",
   "execution_count": 145,
   "id": "9315d579",
   "metadata": {},
   "outputs": [
    {
     "name": "stdout",
     "output_type": "stream",
     "text": [
      "<class 'pandas.core.series.Series'>\n",
      "RangeIndex: 6252 entries, 0 to 6251\n",
      "Series name: image\n",
      "Non-Null Count  Dtype \n",
      "--------------  ----- \n",
      "6252 non-null   object\n",
      "dtypes: object(1)\n",
      "memory usage: 49.0+ KB\n",
      "None\n",
      "count            6252\n",
      "unique           6252\n",
      "top       2823080.jpg\n",
      "freq                1\n",
      "Name: image, dtype: object\n"
     ]
    }
   ],
   "source": [
    "data_x = pre_process(data_x)"
   ]
  },
  {
   "cell_type": "code",
   "execution_count": 160,
   "id": "07e3be3d",
   "metadata": {},
   "outputs": [],
   "source": [
    "test_data = pd.read_csv('test.csv')\n",
    "x = test_data['image']\n",
    "test = []\n",
    "for i in x:\n",
    "    y = cv2.imread(i , 1)\n",
    "    res = cv2.resize(y , (8,15))\n",
    "    test.append(res)\n",
    "test = np.array(test)\n",
    "test_unrolled_array = test.reshape(8*15*3,2680 )\n",
    "test_x = test_unrolled_array/255.\n"
   ]
  },
  {
   "cell_type": "code",
   "execution_count": 161,
   "id": "ce5ee1f8",
   "metadata": {},
   "outputs": [
    {
     "data": {
      "text/plain": [
       "(360, 2680)"
      ]
     },
     "execution_count": 161,
     "metadata": {},
     "output_type": "execute_result"
    }
   ],
   "source": [
    "test_x.shape"
   ]
  },
  {
   "cell_type": "code",
   "execution_count": 101,
   "id": "58a9b0eb",
   "metadata": {},
   "outputs": [],
   "source": [
    "#train_X,test_X,train_Y,test_Y = train_test_split(data_x,labels,test_size=0.10)"
   ]
  },
  {
   "cell_type": "code",
   "execution_count": 146,
   "id": "983eadfb",
   "metadata": {},
   "outputs": [],
   "source": [
    "# splitting the traindata into training and validation data\n",
    "train_X,valid_X,train_Y,valid_Y = train_test_split(data_x,labels,test_size=0.20)"
   ]
  },
  {
   "cell_type": "code",
   "execution_count": 147,
   "id": "d13359de",
   "metadata": {},
   "outputs": [
    {
     "data": {
      "text/plain": [
       "(5001, 15, 8, 3)"
      ]
     },
     "execution_count": 147,
     "metadata": {},
     "output_type": "execute_result"
    }
   ],
   "source": [
    "train_X.shape"
   ]
  },
  {
   "cell_type": "code",
   "execution_count": 148,
   "id": "7e6b7660",
   "metadata": {},
   "outputs": [],
   "source": [
    "Unrolled_array = train_X.reshape(15*8*3,train_X.shape[0])\n",
    "Normed_array = Unrolled_array/255."
   ]
  },
  {
   "cell_type": "code",
   "execution_count": 149,
   "id": "796454b3",
   "metadata": {
    "scrolled": true
   },
   "outputs": [],
   "source": [
    "train_y = train_Y.values.reshape((1,train_Y.shape[0]))"
   ]
  },
  {
   "cell_type": "code",
   "execution_count": 151,
   "id": "77559b7b",
   "metadata": {},
   "outputs": [],
   "source": [
    "def initialize_with_zeros(dim):\n",
    "    #w = np.zeros((dim,1))\n",
    "    w = np.random.randn(dim, 1) * 0.01\n",
    "    b = 0\n",
    "    \n",
    "    return w, b"
   ]
  },
  {
   "cell_type": "code",
   "execution_count": 152,
   "id": "422574f4",
   "metadata": {},
   "outputs": [],
   "source": [
    "# Helper function\n",
    "def helper_sigmoid(z):\n",
    "    s = 1/(1+np.exp(-z))\n",
    "    return s"
   ]
  },
  {
   "cell_type": "code",
   "execution_count": 153,
   "id": "ad5a269c",
   "metadata": {},
   "outputs": [],
   "source": [
    "def optimize(w, b, X, Y, num_iterations, learning_rate, print_cost = False):\n",
    "    \n",
    "    costs = []\n",
    "    epsilon = 1e-5    \n",
    "    m = X.shape[1]\n",
    "    \n",
    "    for i in range(num_iterations):\n",
    "        A = helper_sigmoid(np.dot(w.T,X)+b)                                    \n",
    "        Dw = (1/m)*(np.dot(X,(A-Y).T))\n",
    "        Db = (1/m)*np.sum(A-Y)\n",
    "        grads, cost = [{\"Dw\": Dw,\n",
    "             \"Db\": Db},(-1/Y.shape[1]) * np.sum(Y*np.log(A+epsilon) + (1-Y)*np.log(1-A+epsilon))]\n",
    "\n",
    "\n",
    "        \n",
    "        \n",
    "        # Retrieve derivatives from grads\n",
    "        Dw = grads[\"Dw\"]\n",
    "        Db = grads[\"Db\"]\n",
    "        \n",
    "        # update rule \n",
    "        w = w - learning_rate*Dw\n",
    "        b = b - learning_rate*Db\n",
    "        \n",
    "        # Record the costs\n",
    "        if i % 100 == 0:\n",
    "            costs.append(cost)\n",
    "        \n",
    "        # Print the cost every 100 training iterations\n",
    "        if print_cost and i % 100 == 0:\n",
    "            print (\"Cost after iteration %i: %f\" %(i, cost))\n",
    "    \n",
    "    params = {\"w\": w,\n",
    "              \"b\": b}\n",
    "    \n",
    "    grads = {\"Dw\": Dw,\n",
    "             \"Db\": Db}\n",
    "    \n",
    "    return params, grads, costs"
   ]
  },
  {
   "cell_type": "code",
   "execution_count": 154,
   "id": "18efbb19",
   "metadata": {},
   "outputs": [],
   "source": [
    "def predict(w, b, X):\n",
    "    m = X.shape[1]\n",
    "    Y_prediction = np.zeros((1,m))\n",
    "    w = w.reshape(X.shape[0], 1)\n",
    "    \n",
    "    # Compute vector \"A\" predicting the probabilities of a cat being present in the picture\n",
    "    A = helper_sigmoid(np.dot(w.T,X)+b)                                    \n",
    "        \n",
    "    for i in range(A.shape[1]):  \n",
    "        # Convert probabilities A[0,i] to actual predictions p[0,i]\n",
    "        if(A[0,i]>0.5):\n",
    "            Y_prediction[0,i] = 1\n",
    "        else:\n",
    "            Y_prediction[0,i] = 0\n",
    "    \n",
    "    return Y_prediction"
   ]
  },
  {
   "cell_type": "code",
   "execution_count": 155,
   "id": "0b18a2f5",
   "metadata": {},
   "outputs": [],
   "source": [
    "def model(X_train, Y_train, num_iterations = 2000, learning_rate = 0.5, print_cost = True):\n",
    "    # initialize parameters with zeros \n",
    "    w, b = initialize_with_zeros(X_train.shape[0])\n",
    "\n",
    "    # Gradient descent \n",
    "    parameters, grads, costs = optimize(w, b, X_train, Y_train, num_iterations, learning_rate, print_cost = False)\n",
    "    \n",
    "    # Retrieve parameters w and b from dictionary \"parameters\"\n",
    "    w = parameters[\"w\"]\n",
    "    b = parameters[\"b\"]\n",
    "    \n",
    "    # Predict test/train set examples \n",
    "    #Y_prediction_test = predict(w, b, X_test)\n",
    "    Y_prediction_train = predict(w, b, X_train)\n",
    "\n",
    "    \n",
    "    # Print train/test Errors\n",
    "    print(\"train accuracy: {} %\".format(100 - np.mean(np.abs(Y_prediction_train - Y_train)) * 100))\n",
    "    #print(\"test accuracy: {} %\".format(100 - np.mean(np.abs(Y_prediction_test - Y_test)) * 100))\n",
    "\n",
    "    \n",
    "    d = {\"costs\": costs,\n",
    "        # \"Y_prediction_test\": Y_prediction_test, \n",
    "         \"Y_prediction_train\" : Y_prediction_train, \n",
    "         \"w\" : w, \n",
    "         \"b\" : b,\n",
    "         \"learning_rate\" : learning_rate,\n",
    "         \"num_iterations\": num_iterations}\n",
    "    \n",
    "    return d"
   ]
  },
  {
   "cell_type": "code",
   "execution_count": 157,
   "id": "50e0d1a2",
   "metadata": {},
   "outputs": [
    {
     "name": "stdout",
     "output_type": "stream",
     "text": [
      "train accuracy: 66.52669466106778 %\n"
     ]
    }
   ],
   "source": [
    "train_d = model(Normed_array , train_y , num_iterations = 2000, learning_rate = 0.005, print_cost = True)"
   ]
  },
  {
   "cell_type": "code",
   "execution_count": 158,
   "id": "bfb38a69",
   "metadata": {},
   "outputs": [
    {
     "data": {
      "image/png": "[encoded data removed]",
      "text/plain": [
       "<Figure size 432x288 with 1 Axes>"
      ]
     },
     "metadata": {
      "needs_background": "light"
     },
     "output_type": "display_data"
    }
   ],
   "source": [
    "costs = np.squeeze(train_d['costs'])\n",
    "plt.plot(costs)\n",
    "plt.ylabel('cost')\n",
    "plt.xlabel('iterations (per hundreds)')\n",
    "plt.title(\"Learning rate =0.005\")\n",
    "plt.show()"
   ]
  },
  {
   "cell_type": "code",
   "execution_count": 62,
   "id": "ea0dffdd",
   "metadata": {},
   "outputs": [
    {
     "name": "stdout",
     "output_type": "stream",
     "text": [
      "train accuracy: 37.80975219824141 %\n"
     ]
    }
   ],
   "source": [
    "valid_d = model(valid_x , valid_y , num_iterations = 2000, learning_rate = 0.005, print_cost = True)"
   ]
  },
  {
   "cell_type": "code",
   "execution_count": 63,
   "id": "e8708cc6",
   "metadata": {},
   "outputs": [
    {
     "data": {
      "image/png": "[encoded data removed]",
      "text/plain": [
       "<Figure size 432x288 with 1 Axes>"
      ]
     },
     "metadata": {
      "needs_background": "light"
     },
     "output_type": "display_data"
    }
   ],
   "source": [
    "costs = np.squeeze(valid_d['costs'])\n",
    "plt.plot(costs)\n",
    "plt.ylabel('cost')\n",
    "plt.xlabel('iterations (per hundreds)')\n",
    "plt.title(\"Learning rate =0.005\")\n",
    "plt.show()"
   ]
  },
  {
   "cell_type": "code",
   "execution_count": 4,
   "id": "eaac4df9",
   "metadata": {},
   "outputs": [],
   "source": [
    "# RELU UNIT\n",
    "def layer_sizes(X, Y):\n",
    "\n",
    "    n_x = X.shape[0] # size of input layer\n",
    "    n_h = 4\n",
    "    n_y = Y.shape[0] # size of output layer\n",
    "\n",
    "    return (n_x, n_h, n_y)"
   ]
  },
  {
   "cell_type": "code",
   "execution_count": 5,
   "id": "dd38cbf4",
   "metadata": {},
   "outputs": [],
   "source": [
    "# RELU UNIT\n",
    "def shallow_initialize_parameters(n_x, n_h, n_y): \n",
    "    np.random.seed(2) # we set up a seed so that your output matches my values\n",
    "\n",
    "    W1 = np.random.randn(n_h, n_x) * 0.01\n",
    "    b1 = np.zeros((n_h, 1))\n",
    "    W2 = np.random.randn(n_y, n_h) * 0.01\n",
    "    b2 = np.zeros((n_y, 1))\n",
    "\n",
    "\n",
    "    parameters = {\"W1\": W1,\n",
    "    \"b1\": b1,\n",
    "    \"W2\": W2,\n",
    "    \"b2\": b2}\n",
    "\n",
    "    return parameters"
   ]
  },
  {
   "cell_type": "code",
   "execution_count": 6,
   "id": "46897e64",
   "metadata": {},
   "outputs": [],
   "source": [
    "def shallow_forward_propagation(X, parameters):\n",
    "    # Retrieve each parameter from the dictionary \"parameters\"\n",
    "    W1 = parameters[\"W1\"]\n",
    "    b1 = parameters[\"b1\"]\n",
    "    W2 = parameters[\"W2\"]\n",
    "    b2 = parameters[\"b2\"]\n",
    "\n",
    "\n",
    "    # Implement Forward Propagation to calculate A2 (probabilities)\n",
    "    Z1 = np.dot(W1, X) + b1\n",
    "    A1 = np.maximum(0, Z1)\n",
    "    Z2 = np.dot(W2, A1) + b2\n",
    "    A2 = helper_sigmoid(Z2)\n",
    "\n",
    "\n",
    "    cache = {\"Z1\": Z1,\n",
    "    \"A1\": A1,\n",
    "    \"Z2\": Z2,\n",
    "    \"A2\": A2}\n",
    "\n",
    "    return A2, cache"
   ]
  },
  {
   "cell_type": "code",
   "execution_count": 8,
   "id": "7ca5523e",
   "metadata": {},
   "outputs": [],
   "source": [
    "def compute_cost(A2, Y, parameters):\n",
    "    m = Y.shape[1] # number of example\n",
    "    # Compute the cost\n",
    "    logprobs = np.multiply(np.log(A2),Y) + np.multiply(np.log(1-A2),(1-Y))\n",
    "    cost = -1/m * np.sum(logprobs)\n",
    "\n",
    "    cost = float(np.squeeze(cost)) # makes sure cost is the dimension we expe\n",
    "    # E.g., turns [[17]] into 17 \n",
    "    assert(isinstance(cost, float))\n",
    "\n",
    "    return cost"
   ]
  },
  {
   "cell_type": "code",
   "execution_count": 9,
   "id": "32db07e6",
   "metadata": {},
   "outputs": [],
   "source": [
    "def shallow_backward_propagation(parameters, cache, X, Y):\n",
    "    m = X.shape[1]\n",
    "\n",
    "    # First, retrieve W1 and W2 from the dictionary \"parameters\".\n",
    "    W1 = parameters[\"W1\"]\n",
    "    W2 = parameters[\"W2\"]\n",
    "\n",
    "    # Retrieve also A1 and A2 from dictionary \"cache\".\n",
    "    A1 = cache[\"A1\"]\n",
    "    A2 = cache[\"A2\"]\n",
    "\n",
    "    # Backward propagation: calculate dW1, db1, dW2, db2, corresponding to 6 e\n",
    "    dZ2 = A2 - Y\n",
    "    dW2 = (1 / m) * np.dot(dZ2, A1.T)\n",
    "    db2 = (1 / m) * np.sum(dZ2, axis=1, keepdims=True)\n",
    "    dZ1 = np.dot(W2.T, dZ2) * (A1 > 0)\n",
    "    dW1 = (1 / m) * np.dot(dZ1, X.T)\n",
    "    db1 = (1 / m) * np.sum(dZ1, axis=1, keepdims=True)\n",
    "\n",
    "    grads = {\"dW1\": dW1,\n",
    "    \"db1\": db1,\n",
    "    \"dW2\": dW2,\n",
    "    \"db2\": db2}\n",
    "\n",
    "    return grads"
   ]
  },
  {
   "cell_type": "code",
   "execution_count": 10,
   "id": "d76a556a",
   "metadata": {},
   "outputs": [],
   "source": [
    "def update_parameters(parameters, grads, learning_rate = 1.2):\n",
    "    # Retrieve each parameter from the dictionary \"parameters\"\n",
    "    W1 = parameters[\"W1\"]\n",
    "    b1 = parameters[\"b1\"]\n",
    "    W2 = parameters[\"W2\"]\n",
    "    b2 = parameters[\"b2\"]\n",
    "\n",
    "    # Retrieve each gradient from the dictionary \"grads\"\n",
    "    dW1 = grads[\"dW1\"]\n",
    "    db1 = grads[\"db1\"]\n",
    "    dW2 = grads[\"dW2\"]\n",
    "    db2 = grads[\"db2\"]\n",
    "\n",
    "    # Update rule for each parameter\n",
    "    W1 = W1 - learning_rate * dW1\n",
    "    b1 = b1 - learning_rate * db1\n",
    "    W2 = W2 - learning_rate * dW2\n",
    "    b2 = b2 - learning_rate * db2\n",
    "\n",
    "    parameters = {\"W1\": W1,\n",
    "    \"b1\": b1,\n",
    "    \"W2\": W2,\n",
    "    \"b2\": b2}\n",
    "\n",
    "    return parameters"
   ]
  },
  {
   "cell_type": "code",
   "execution_count": 64,
   "id": "c82c4173",
   "metadata": {},
   "outputs": [],
   "source": [
    "def nn_model(X, Y, n_h, num_iterations = 1000, print_cost=True):\n",
    " \n",
    "    np.random.seed(3)\n",
    "    n_x = layer_sizes(X, Y)[0]\n",
    "    n_y = layer_sizes(X, Y)[2]\n",
    "\n",
    "    costs = []\n",
    "    # Initialize parameters\n",
    "    parameters = shallow_initialize_parameters(n_x, n_h, n_y)\n",
    "    \n",
    "\n",
    "    # Loop (gradient descent)\n",
    "    for i in range(0, num_iterations):\n",
    "        # Forward propagation. Inputs: \"X, parameters\". Outputs: \"A2, cache\".\n",
    "        A2,cache = shallow_forward_propagation(X, parameters)\n",
    "        # Cost function. Inputs: \"A2, Y, parameters\". Outputs: \"cost\".\n",
    "        cost = compute_cost(A2, Y, parameters)\n",
    "        # Backpropagation. Inputs: \"parameters, cache, X, Y\". Outputs: \"grads\"\n",
    "        grads = shallow_backward_propagation(parameters, cache, X, Y)\n",
    "        # Gradient descent parameter update. Inputs: \"parameters, grads\". Outp\n",
    "        parameters = update_parameters(parameters, grads)\n",
    "\n",
    "        # Print the cost every 100 iterations\n",
    "        if print_cost and i % 100 == 0:\n",
    "            print (\"Cost after iteration %i: %f\" %(i, cost))\n",
    "            costs.append(cost)\n",
    "    return parameters,costs"
   ]
  },
  {
   "cell_type": "code",
   "execution_count": 65,
   "id": "cc4f21c5",
   "metadata": {
    "scrolled": true
   },
   "outputs": [
    {
     "name": "stdout",
     "output_type": "stream",
     "text": [
      "Cost after iteration 0: 0.693353\n",
      "Cost after iteration 100: 0.641388\n",
      "Cost after iteration 200: 0.641388\n",
      "Cost after iteration 300: 0.641388\n",
      "Cost after iteration 400: 0.641388\n",
      "Cost after iteration 500: 0.641388\n",
      "Cost after iteration 600: 0.641388\n",
      "Cost after iteration 700: 0.641388\n",
      "Cost after iteration 800: 0.641388\n",
      "Cost after iteration 900: 0.641388\n"
     ]
    }
   ],
   "source": [
    "params,shallow_train_costs = nn_model(Normed_array,train_y,4)"
   ]
  },
  {
   "cell_type": "code",
   "execution_count": 66,
   "id": "c42568ba",
   "metadata": {},
   "outputs": [
    {
     "data": {
      "image/png": "[encoded data removed]",
      "text/plain": [
       "<Figure size 432x288 with 1 Axes>"
      ]
     },
     "metadata": {
      "needs_background": "light"
     },
     "output_type": "display_data"
    }
   ],
   "source": [
    "costs = np.squeeze(shallow_train_costs)\n",
    "plt.plot(costs)\n",
    "plt.ylabel('cost')\n",
    "plt.xlabel('iterations (per hundreds)')\n",
    "plt.title(\"Learning rate = 1.2\")\n",
    "plt.show()"
   ]
  },
  {
   "cell_type": "code",
   "execution_count": 68,
   "id": "918fd589",
   "metadata": {
    "scrolled": false
   },
   "outputs": [
    {
     "name": "stdout",
     "output_type": "stream",
     "text": [
      "Cost after iteration 0: 0.693238\n",
      "Cost after iteration 100: 0.636514\n",
      "Cost after iteration 200: 0.636514\n",
      "Cost after iteration 300: 0.636514\n",
      "Cost after iteration 400: 0.636514\n",
      "Cost after iteration 500: 0.636514\n",
      "Cost after iteration 600: 0.636514\n",
      "Cost after iteration 700: 0.636514\n",
      "Cost after iteration 800: 0.636514\n",
      "Cost after iteration 900: 0.636514\n"
     ]
    }
   ],
   "source": [
    "valid_params,shallow_valid_costs = nn_model(valid_x,valid_y,4)"
   ]
  },
  {
   "cell_type": "code",
   "execution_count": 70,
   "id": "0336e520",
   "metadata": {},
   "outputs": [
    {
     "data": {
      "image/png": "[encoded data removed]",
      "text/plain": [
       "<Figure size 432x288 with 1 Axes>"
      ]
     },
     "metadata": {
      "needs_background": "light"
     },
     "output_type": "display_data"
    }
   ],
   "source": [
    "costs = np.squeeze(shallow_valid_costs)\n",
    "plt.plot(costs)\n",
    "plt.ylabel('cost')\n",
    "plt.xlabel('iterations (per hundreds)')\n",
    "plt.title(\"Learning rate =1.2\")\n",
    "plt.show()"
   ]
  },
  {
   "cell_type": "code",
   "execution_count": 30,
   "id": "5470913d",
   "metadata": {},
   "outputs": [],
   "source": [
    "def shallow_predict(parameters, X,Y):\n",
    "    A2, cache = shallow_forward_propagation(X, parameters)\n",
    "    predictions = (A2 > 0.5)\n",
    "    print(\"accuracy: {} %\".format(100 - np.mean(np.abs(predictions - Y)) * 100))\n",
    "    return predictions"
   ]
  },
  {
   "cell_type": "code",
   "execution_count": 31,
   "id": "82eeac66",
   "metadata": {
    "scrolled": false
   },
   "outputs": [
    {
     "name": "stdout",
     "output_type": "stream",
     "text": [
      "accuracy: 66.7866426714657 %\n"
     ]
    }
   ],
   "source": [
    "train_predictions = shallow_predict(params,Normed_array,train_y)"
   ]
  },
  {
   "cell_type": "code",
   "execution_count": 34,
   "id": "83be41b1",
   "metadata": {},
   "outputs": [
    {
     "name": "stdout",
     "output_type": "stream",
     "text": [
      "accuracy: 63.30935251798561 %\n"
     ]
    }
   ],
   "source": [
    "valid_predictions = shallow_predict(valid_params,valid_x,valid_y)"
   ]
  },
  {
   "cell_type": "code",
   "execution_count": 75,
   "id": "6e1bf0f0",
   "metadata": {},
   "outputs": [],
   "source": [
    "def initialize_parameters_deep(layer_dims):\n",
    "\n",
    "    np.random.seed(3)\n",
    "    parameters = {}\n",
    "    L = len(layer_dims) # number of layers in the network\n",
    "    for l in range(1, L):\n",
    "        parameters['W' + str(l)] = np.random.randn(layer_dims[l], layer_dims[l-1]) * 0.01\n",
    "        parameters['b' + str(l)] = np.zeros((layer_dims[l], 1))\n",
    "\n",
    "\n",
    "    return parameters"
   ]
  },
  {
   "cell_type": "code",
   "execution_count": 76,
   "id": "c5811c51",
   "metadata": {},
   "outputs": [],
   "source": [
    "def linear_forward(A, W, b):\n",
    " \n",
    "    Z = np.dot(W, A) + b\n",
    "\n",
    "    cache = (A, W, b)\n",
    "\n",
    "    return Z, cache"
   ]
  },
  {
   "cell_type": "code",
   "execution_count": 77,
   "id": "d39f6a22",
   "metadata": {},
   "outputs": [
    {
     "data": {
      "text/plain": [
       "<function dnn_utils_v2.sigmoid(Z)>"
      ]
     },
     "execution_count": 77,
     "metadata": {},
     "output_type": "execute_result"
    }
   ],
   "source": [
    "sigmoid"
   ]
  },
  {
   "cell_type": "code",
   "execution_count": 78,
   "id": "5519e2a2",
   "metadata": {},
   "outputs": [],
   "source": [
    "def linear_activation_forward(A_prev, W, b, activation):\n",
    "\n",
    "    if activation == \"sigmoid\":\n",
    "    # Inputs: \"A_prev, W, b\". Outputs: \"A, activation_cache\".\n",
    "        Z, linear_cache = linear_forward(A_prev, W, b)\n",
    "        A, activation_cache = sigmoid(Z)\n",
    "\n",
    "    elif activation == \"relu\":\n",
    "    # Inputs: \"A_prev, W, b\". Outputs: \"A, activation_cache\".\n",
    "        Z, linear_cache = linear_forward(A_prev, W, b)\n",
    "        A, activation_cache = relu(Z)\n",
    "\n",
    "    cache = (linear_cache, activation_cache)\n",
    "    return A, cache"
   ]
  },
  {
   "cell_type": "code",
   "execution_count": 79,
   "id": "6b7be378",
   "metadata": {},
   "outputs": [],
   "source": [
    "def L_model_forward(X, parameters):\n",
    "    caches = []\n",
    "    A = X\n",
    "    L = len(parameters) // 2 # number of layers in the neural network\n",
    "\n",
    "    # Implement [LINEAR -> RELU]*(L-1). \n",
    "    for l in range(1, L):\n",
    "        A_prev = A\n",
    "        A, cache = linear_activation_forward(A_prev, parameters['W'+str(l)], parameters['b'+str(l)], activation='relu')\n",
    "        caches.append(cache) # Add \"cache\" to the \"caches\" list\n",
    "\n",
    "    # Implement LINEAR -> SIGMOID. \n",
    "    AL, cache = linear_activation_forward(A, parameters['W'+str(L)], parameters['b'+str(L)], activation='sigmoid')\n",
    "    caches.append(cache) # Add \"cache\" to the \"caches\" list\n",
    "\n",
    "\n",
    "    return AL, caches"
   ]
  },
  {
   "cell_type": "code",
   "execution_count": 80,
   "id": "e5d51a78",
   "metadata": {},
   "outputs": [],
   "source": [
    "def deep_compute_cost(AL, Y):\n",
    " \n",
    "    m = Y.shape[1]\n",
    "    # Compute loss from aL and y.\n",
    "    cost = (-1/m) * np.sum(Y * np.log(AL) + (1-Y) * np.log(1-AL))\n",
    "\n",
    "    cost = np.squeeze(cost) # To make sure your cost's shape is what we expect (e.g. this turns [[17]] into 17\n",
    "\n",
    "    return cost"
   ]
  },
  {
   "cell_type": "code",
   "execution_count": 81,
   "id": "38f16103",
   "metadata": {},
   "outputs": [],
   "source": [
    "def linear_backward(dZ, cache):\n",
    "    A_prev, W, b = cache\n",
    "    m = A_prev.shape[1]\n",
    "    dA_prev = np.dot(W.T, dZ)\n",
    "    dW = 1/m * np.dot(dZ, A_prev.T)\n",
    "    db = 1/m * np.sum(dZ, axis=1, keepdims=True)\n",
    "\n",
    "    return dA_prev, dW, db"
   ]
  },
  {
   "cell_type": "code",
   "execution_count": 82,
   "id": "60d588f8",
   "metadata": {},
   "outputs": [],
   "source": [
    "def linear_activation_backward(dA, cache, activation):\n",
    "    linear_cache, activation_cache = cache\n",
    "\n",
    "    if activation == \"relu\":\n",
    "        dZ = relu_backward(dA, activation_cache)\n",
    "        dA_prev, dW, db = linear_backward(dZ, linear_cache)\n",
    "\n",
    "    elif activation == \"sigmoid\":\n",
    "        dZ = sigmoid_backward(dA, activation_cache)\n",
    "        dA_prev, dW, db = linear_backward(dZ, linear_cache)\n",
    "\n",
    "    return dA_prev, dW, db"
   ]
  },
  {
   "cell_type": "code",
   "execution_count": 83,
   "id": "1e18bfc8",
   "metadata": {},
   "outputs": [],
   "source": [
    "def L_model_backward(AL, Y, caches):\n",
    " \n",
    "    grads = {}\n",
    "    L = len(caches) # the number of layers\n",
    "    m = AL.shape[1]\n",
    "    Y = Y.reshape(AL.shape) # after this line, Y is the same shape as AL\n",
    "\n",
    "    # Initializing the backpropagation\n",
    "    dAL = -(np.divide(Y, AL) - np.divide(1 - Y, 1 - AL))\n",
    "\n",
    "    # Lth layer (SIGMOID -> LINEAR) gradients. Inputs: \"dAL, current_cache\". Outputs: \"grads[\"dAL-1\"], grads[\"dWL\"]\n",
    "    current_cache = caches[L-1]\n",
    "    grads[\"dA\" + str(L-1)], grads[\"dW\" + str(L)], grads[\"db\" + str(L)] = linear_activation_backward(dAL, current_cache,\"sigmoid\")\n",
    "\n",
    "    # Loop from l=L-2 to l=0\n",
    "    for l in reversed(range(L-1)):\n",
    "    # lth layer: (RELU -> LINEAR) gradients.\n",
    "    # Inputs: \"grads[\"dA\" + str(l + 1)], current_cache\". Outputs: \"grads[\"dA\" + str(l)] , grads[\"dW\" + str(l + \n",
    "        current_cache = caches[l]\n",
    "        dA_prev_temp, dW_temp, db_temp = linear_activation_backward(grads[\"dA\" + str(l + 1)], current_cache, \"relu\")\n",
    "        grads[\"dA\" + str(l)] = dA_prev_temp\n",
    "        grads[\"dW\" + str(l + 1)] =dW_temp\n",
    "        grads[\"db\" + str(l + 1)] = db_temp\n",
    "    return grads"
   ]
  },
  {
   "cell_type": "code",
   "execution_count": 84,
   "id": "a961b5a8",
   "metadata": {},
   "outputs": [],
   "source": [
    "def deep_update_parameters(parameters, grads, learning_rate):\n",
    " \n",
    "    L = len(parameters) // 2 # number of layers in the neural network\n",
    "    # Update rule for each parameter. Use a for loop.\n",
    "    for l in range(L):\n",
    "        parameters[\"W\" + str(l+1)] = parameters[\"W\" + str(l+1)] - learning_rate * grads[\"dW\" + str(l+1)]\n",
    "        parameters[\"b\" + str(l+1)] = parameters[\"b\" + str(l+1)] - learning_rate * grads[\"db\" + str(l+1)]\n",
    "    return parameters"
   ]
  },
  {
   "cell_type": "code",
   "execution_count": 85,
   "id": "0a78d641",
   "metadata": {},
   "outputs": [],
   "source": [
    "def L_layer_model(X, Y, layers_dims, learning_rate = 0.0075, num_iterations = 3,print_cost=True):\n",
    "    np.random.seed(1)\n",
    "    costs = [] # keep track of cost\n",
    "\n",
    "    # Parameters initialization. (≈ 1 line of code)\n",
    "    parameters = initialize_parameters_deep(layers_dims)\n",
    "\n",
    "    # Loop (gradient descent)\n",
    "    for i in range(0, num_iterations):\n",
    "    # Forward propagation: [LINEAR -> RELU]*(L-1) -> LINEAR -> SIGMOID.\n",
    "        AL, caches = L_model_forward(X, parameters)\n",
    "\n",
    "    # Compute cost.\n",
    "        cost = deep_compute_cost(AL, Y)\n",
    "\n",
    "        # Backward propagation.\n",
    "        grads = L_model_backward(AL, Y, caches)\n",
    "        # Update parameters.\n",
    "        parameters = deep_update_parameters(parameters, grads, learning_rate)\n",
    "\n",
    "        # Print the cost every 1 training example\n",
    "        if print_cost and i % 1 == 0:\n",
    "            print (\"Cost after iteration %i: %f\" %(i, cost))\n",
    "        if print_cost and i % 1 == 0:\n",
    "            costs.append(cost)\n",
    "\n",
    "            # plot the cost\n",
    "            plt.plot(np.squeeze(costs))\n",
    "            plt.ylabel('cost')\n",
    "            plt.xlabel('iterations (per hundreds)')\n",
    "            plt.title(\"Learning rate =\" + str(learning_rate))\n",
    "            plt.show()\n",
    "\n",
    "    return parameters,costs"
   ]
  },
  {
   "cell_type": "code",
   "execution_count": 86,
   "id": "fa6e0189",
   "metadata": {},
   "outputs": [],
   "source": [
    "def deep_predict(parameters, X,Y):\n",
    "    A2, cache = L_model_forward(X, parameters)\n",
    "    predictions = (A2 > 0.5)\n",
    "    print(\"accuracy: {} %\".format(100 - np.mean(np.abs(predictions - Y)) * 100))\n",
    "    return predictions"
   ]
  },
  {
   "cell_type": "code",
   "execution_count": 87,
   "id": "372c9aad",
   "metadata": {},
   "outputs": [
    {
     "data": {
      "text/plain": [
       "(79380, 5001)"
      ]
     },
     "execution_count": 87,
     "metadata": {},
     "output_type": "execute_result"
    }
   ],
   "source": [
    "Normed_array.shape"
   ]
  },
  {
   "cell_type": "code",
   "execution_count": 88,
   "id": "dce2b82c",
   "metadata": {},
   "outputs": [],
   "source": [
    "layers_dims_train = [79380,5001,7,4,1]"
   ]
  },
  {
   "cell_type": "code",
   "execution_count": 89,
   "id": "d53d4ecb",
   "metadata": {},
   "outputs": [
    {
     "name": "stdout",
     "output_type": "stream",
     "text": [
      "Cost after iteration 0: 0.693138\n"
     ]
    },
    {
     "data": {
      "image/png": "[encoded data removed]",
      "text/plain": [
       "<Figure size 432x288 with 1 Axes>"
      ]
     },
     "metadata": {
      "needs_background": "light"
     },
     "output_type": "display_data"
    },
    {
     "name": "stdout",
     "output_type": "stream",
     "text": [
      "Cost after iteration 1: 0.692947\n"
     ]
    },
    {
     "data": {
      "image/png": "[encoded data removed]",
      "text/plain": [
       "<Figure size 432x288 with 1 Axes>"
      ]
     },
     "metadata": {
      "needs_background": "light"
     },
     "output_type": "display_data"
    },
    {
     "name": "stdout",
     "output_type": "stream",
     "text": [
      "Cost after iteration 2: 0.692757\n"
     ]
    },
    {
     "data": {
      "image/png": "[encoded data removed]",
      "text/plain": [
       "<Figure size 432x288 with 1 Axes>"
      ]
     },
     "metadata": {
      "needs_background": "light"
     },
     "output_type": "display_data"
    }
   ],
   "source": [
    "p,train_deep_costs = L_layer_model(Normed_array,train_y,layers_dims_train)"
   ]
  },
  {
   "cell_type": "code",
   "execution_count": 37,
   "id": "d0eecb11",
   "metadata": {},
   "outputs": [
    {
     "name": "stdout",
     "output_type": "stream",
     "text": [
      "train accuracy: 66.26674665066986 %\n"
     ]
    },
    {
     "data": {
      "text/plain": [
       "array([[False, False, False, ..., False, False, False]])"
      ]
     },
     "execution_count": 37,
     "metadata": {},
     "output_type": "execute_result"
    }
   ],
   "source": [
    "deep_trainpreds = deep_predict(p,Normed_array,train_y)"
   ]
  },
  {
   "cell_type": "code",
   "execution_count": 91,
   "id": "45cf4ac0",
   "metadata": {},
   "outputs": [],
   "source": [
    "layers_dims_valid = [79380,valid_x.shape[1],7,4,1]"
   ]
  },
  {
   "cell_type": "code",
   "execution_count": 92,
   "id": "8a397a0a",
   "metadata": {
    "scrolled": true
   },
   "outputs": [
    {
     "name": "stdout",
     "output_type": "stream",
     "text": [
      "Cost after iteration 0: 0.693148\n"
     ]
    },
    {
     "data": {
      "image/png": "[encoded data removed]",
      "text/plain": [
       "<Figure size 432x288 with 1 Axes>"
      ]
     },
     "metadata": {
      "needs_background": "light"
     },
     "output_type": "display_data"
    },
    {
     "name": "stdout",
     "output_type": "stream",
     "text": [
      "Cost after iteration 1: 0.692940\n"
     ]
    },
    {
     "data": {
      "image/png": "[encoded data removed]",
      "text/plain": [
       "<Figure size 432x288 with 1 Axes>"
      ]
     },
     "metadata": {
      "needs_background": "light"
     },
     "output_type": "display_data"
    },
    {
     "name": "stdout",
     "output_type": "stream",
     "text": [
      "Cost after iteration 2: 0.692732\n"
     ]
    },
    {
     "data": {
      "image/png": "[encoded data removed]",
      "text/plain": [
       "<Figure size 432x288 with 1 Axes>"
      ]
     },
     "metadata": {
      "needs_background": "light"
     },
     "output_type": "display_data"
    }
   ],
   "source": [
    "valid_p,valid_deep_costs = L_layer_model(valid_x,valid_y,layers_dims_valid)"
   ]
  },
  {
   "cell_type": "code",
   "execution_count": 61,
   "id": "5665a7e6",
   "metadata": {},
   "outputs": [
    {
     "name": "stdout",
     "output_type": "stream",
     "text": [
      "accuracy: 65.38768984812151 %\n"
     ]
    }
   ],
   "source": [
    "deep_validpreds = deep_predict(p,valid_x,valid_y)"
   ]
  }
 ],
 "metadata": {
  "kernelspec": {
   "display_name": "Python 3 (ipykernel)",
   "language": "python",
   "name": "python3"
  },
  "language_info": {
   "codemirror_mode": {
    "name": "ipython",
    "version": 3
   },
   "file_extension": ".py",
   "mimetype": "text/x-python",
   "name": "python",
   "nbconvert_exporter": "python",
   "pygments_lexer": "ipython3",
   "version": "3.9.12"
  }
 },
 "nbformat": 4,
 "nbformat_minor": 5
}
