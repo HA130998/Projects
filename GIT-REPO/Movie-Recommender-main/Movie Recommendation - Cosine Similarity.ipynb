{
 "cells": [
  {
   "cell_type": "code",
   "execution_count": 1,
   "id": "30fd87cb",
   "metadata": {},
   "outputs": [],
   "source": [
    "import pandas as pd"
   ]
  },
  {
   "cell_type": "code",
   "execution_count": 2,
   "id": "c995f578",
   "metadata": {},
   "outputs": [],
   "source": [
    "import numpy as np"
   ]
  },
  {
   "cell_type": "code",
   "execution_count": 125,
   "id": "458dc512",
   "metadata": {},
   "outputs": [],
   "source": [
    "names = ['movie id', 'movie title' ,'release date','video release date', 'IMDb URL', 'unknown', 'Action', 'Adventure',\n",
    " 'Animation', 'Children\\'s', 'Comedy', 'Crime', 'Documentary', 'Drama', 'Fantasy',\n",
    " 'Film-Noir', 'Horror', 'Musical', 'Mystery', 'Romance', 'Sci-Fi', 'Thriller', 'War', 'Western']\n",
    "items = pd.read_csv('u.item', sep='|', names=names,encoding='latin-1')"
   ]
  },
  {
   "cell_type": "code",
   "execution_count": 113,
   "id": "942d1e3e",
   "metadata": {},
   "outputs": [],
   "source": [
    "col_names = ['user_id', 'movie_id', 'rating', 'unix_timestamp']\n",
    "\n",
    "ratings_base = pd.read_csv('u1.base', sep='\\t', names=col_names, encoding='latin-1')\n",
    "ratings_test = pd.read_csv('u1.test', sep='\\t', names=col_names, encoding='latin-1')\n"
   ]
  },
  {
   "cell_type": "code",
   "execution_count": 116,
   "id": "5065170a",
   "metadata": {},
   "outputs": [],
   "source": [
    "ratings_base.drop('unix_timestamp',axis=1,inplace=True)"
   ]
  },
  {
   "cell_type": "code",
   "execution_count": 117,
   "id": "c383753b",
   "metadata": {},
   "outputs": [],
   "source": [
    "ratings_test.drop('unix_timestamp',axis=1,inplace=True)"
   ]
  },
  {
   "cell_type": "code",
   "execution_count": 130,
   "id": "abb8c1a9",
   "metadata": {},
   "outputs": [],
   "source": [
    "movie_data = items.filter(['movie id','movie title'],axis=1)"
   ]
  },
  {
   "cell_type": "code",
   "execution_count": 135,
   "id": "f474160c",
   "metadata": {
    "scrolled": true
   },
   "outputs": [
    {
     "data": {
      "text/html": [
       "<div>\n",
       "<style scoped>\n",
       "    .dataframe tbody tr th:only-of-type {\n",
       "        vertical-align: middle;\n",
       "    }\n",
       "\n",
       "    .dataframe tbody tr th {\n",
       "        vertical-align: top;\n",
       "    }\n",
       "\n",
       "    .dataframe thead th {\n",
       "        text-align: right;\n",
       "    }\n",
       "</style>\n",
       "<table border=\"1\" class=\"dataframe\">\n",
       "  <thead>\n",
       "    <tr style=\"text-align: right;\">\n",
       "      <th></th>\n",
       "      <th>user_id</th>\n",
       "      <th>movie_id</th>\n",
       "      <th>rating</th>\n",
       "    </tr>\n",
       "  </thead>\n",
       "  <tbody>\n",
       "    <tr>\n",
       "      <th>0</th>\n",
       "      <td>1</td>\n",
       "      <td>1</td>\n",
       "      <td>5</td>\n",
       "    </tr>\n",
       "    <tr>\n",
       "      <th>1</th>\n",
       "      <td>1</td>\n",
       "      <td>2</td>\n",
       "      <td>3</td>\n",
       "    </tr>\n",
       "    <tr>\n",
       "      <th>2</th>\n",
       "      <td>1</td>\n",
       "      <td>3</td>\n",
       "      <td>4</td>\n",
       "    </tr>\n",
       "    <tr>\n",
       "      <th>3</th>\n",
       "      <td>1</td>\n",
       "      <td>4</td>\n",
       "      <td>3</td>\n",
       "    </tr>\n",
       "    <tr>\n",
       "      <th>4</th>\n",
       "      <td>1</td>\n",
       "      <td>5</td>\n",
       "      <td>3</td>\n",
       "    </tr>\n",
       "  </tbody>\n",
       "</table>\n",
       "</div>"
      ],
      "text/plain": [
       "   user_id  movie_id  rating\n",
       "0        1         1       5\n",
       "1        1         2       3\n",
       "2        1         3       4\n",
       "3        1         4       3\n",
       "4        1         5       3"
      ]
     },
     "execution_count": 135,
     "metadata": {},
     "output_type": "execute_result"
    }
   ],
   "source": [
    "ratings_base.head()"
   ]
  },
  {
   "cell_type": "code",
   "execution_count": 38,
   "id": "a656b001",
   "metadata": {
    "scrolled": false
   },
   "outputs": [
    {
     "data": {
      "text/plain": [
       "0    0\n",
       "1    0\n",
       "2    0\n",
       "dtype: int64"
      ]
     },
     "execution_count": 38,
     "metadata": {},
     "output_type": "execute_result"
    }
   ],
   "source": [
    "movie_data.isna().sum()"
   ]
  },
  {
   "cell_type": "code",
   "execution_count": 132,
   "id": "e0143f45",
   "metadata": {},
   "outputs": [
    {
     "data": {
      "text/plain": [
       "user_id     0\n",
       "movie_id    0\n",
       "rating      0\n",
       "dtype: int64"
      ]
     },
     "execution_count": 132,
     "metadata": {},
     "output_type": "execute_result"
    }
   ],
   "source": [
    "ratings_base.isna().sum()"
   ]
  },
  {
   "cell_type": "code",
   "execution_count": 133,
   "id": "c65cf966",
   "metadata": {
    "scrolled": true
   },
   "outputs": [
    {
     "data": {
      "text/plain": [
       "user_id     0\n",
       "movie_id    0\n",
       "rating      0\n",
       "dtype: int64"
      ]
     },
     "execution_count": 133,
     "metadata": {},
     "output_type": "execute_result"
    }
   ],
   "source": [
    "ratings_test.isna().sum()"
   ]
  },
  {
   "cell_type": "code",
   "execution_count": 134,
   "id": "c4129317",
   "metadata": {},
   "outputs": [],
   "source": [
    "movie_data.rename(columns={'movie title':'title','movie id':'movie_id'},inplace=True)"
   ]
  },
  {
   "cell_type": "code",
   "execution_count": 7,
   "id": "fda12293",
   "metadata": {},
   "outputs": [],
   "source": [
    "ratings.rename(columns={0:'user_id',1:'movie_id',2:'rating'},inplace=True)"
   ]
  },
  {
   "cell_type": "code",
   "execution_count": 143,
   "id": "432d6328",
   "metadata": {},
   "outputs": [],
   "source": [
    "user_item_pivot = ratings_base.pivot('user_id','movie_id','rating').fillna(0)"
   ]
  },
  {
   "cell_type": "code",
   "execution_count": 144,
   "id": "6904c660",
   "metadata": {
    "scrolled": false
   },
   "outputs": [
    {
     "data": {
      "text/html": [
       "<div>\n",
       "<style scoped>\n",
       "    .dataframe tbody tr th:only-of-type {\n",
       "        vertical-align: middle;\n",
       "    }\n",
       "\n",
       "    .dataframe tbody tr th {\n",
       "        vertical-align: top;\n",
       "    }\n",
       "\n",
       "    .dataframe thead th {\n",
       "        text-align: right;\n",
       "    }\n",
       "</style>\n",
       "<table border=\"1\" class=\"dataframe\">\n",
       "  <thead>\n",
       "    <tr style=\"text-align: right;\">\n",
       "      <th>movie_id</th>\n",
       "      <th>1</th>\n",
       "      <th>2</th>\n",
       "      <th>3</th>\n",
       "      <th>4</th>\n",
       "      <th>5</th>\n",
       "      <th>6</th>\n",
       "      <th>7</th>\n",
       "      <th>8</th>\n",
       "      <th>9</th>\n",
       "      <th>10</th>\n",
       "      <th>...</th>\n",
       "      <th>1673</th>\n",
       "      <th>1674</th>\n",
       "      <th>1675</th>\n",
       "      <th>1676</th>\n",
       "      <th>1677</th>\n",
       "      <th>1678</th>\n",
       "      <th>1679</th>\n",
       "      <th>1680</th>\n",
       "      <th>1681</th>\n",
       "      <th>1682</th>\n",
       "    </tr>\n",
       "    <tr>\n",
       "      <th>user_id</th>\n",
       "      <th></th>\n",
       "      <th></th>\n",
       "      <th></th>\n",
       "      <th></th>\n",
       "      <th></th>\n",
       "      <th></th>\n",
       "      <th></th>\n",
       "      <th></th>\n",
       "      <th></th>\n",
       "      <th></th>\n",
       "      <th></th>\n",
       "      <th></th>\n",
       "      <th></th>\n",
       "      <th></th>\n",
       "      <th></th>\n",
       "      <th></th>\n",
       "      <th></th>\n",
       "      <th></th>\n",
       "      <th></th>\n",
       "      <th></th>\n",
       "      <th></th>\n",
       "    </tr>\n",
       "  </thead>\n",
       "  <tbody>\n",
       "    <tr>\n",
       "      <th>1</th>\n",
       "      <td>5.0</td>\n",
       "      <td>3.0</td>\n",
       "      <td>4.0</td>\n",
       "      <td>3.0</td>\n",
       "      <td>3.0</td>\n",
       "      <td>0.0</td>\n",
       "      <td>4.0</td>\n",
       "      <td>1.0</td>\n",
       "      <td>5.0</td>\n",
       "      <td>0.0</td>\n",
       "      <td>...</td>\n",
       "      <td>0.0</td>\n",
       "      <td>0.0</td>\n",
       "      <td>0.0</td>\n",
       "      <td>0.0</td>\n",
       "      <td>0.0</td>\n",
       "      <td>0.0</td>\n",
       "      <td>0.0</td>\n",
       "      <td>0.0</td>\n",
       "      <td>0.0</td>\n",
       "      <td>0.0</td>\n",
       "    </tr>\n",
       "    <tr>\n",
       "      <th>2</th>\n",
       "      <td>4.0</td>\n",
       "      <td>0.0</td>\n",
       "      <td>0.0</td>\n",
       "      <td>0.0</td>\n",
       "      <td>0.0</td>\n",
       "      <td>0.0</td>\n",
       "      <td>0.0</td>\n",
       "      <td>0.0</td>\n",
       "      <td>0.0</td>\n",
       "      <td>2.0</td>\n",
       "      <td>...</td>\n",
       "      <td>0.0</td>\n",
       "      <td>0.0</td>\n",
       "      <td>0.0</td>\n",
       "      <td>0.0</td>\n",
       "      <td>0.0</td>\n",
       "      <td>0.0</td>\n",
       "      <td>0.0</td>\n",
       "      <td>0.0</td>\n",
       "      <td>0.0</td>\n",
       "      <td>0.0</td>\n",
       "    </tr>\n",
       "    <tr>\n",
       "      <th>3</th>\n",
       "      <td>0.0</td>\n",
       "      <td>0.0</td>\n",
       "      <td>0.0</td>\n",
       "      <td>0.0</td>\n",
       "      <td>0.0</td>\n",
       "      <td>0.0</td>\n",
       "      <td>0.0</td>\n",
       "      <td>0.0</td>\n",
       "      <td>0.0</td>\n",
       "      <td>0.0</td>\n",
       "      <td>...</td>\n",
       "      <td>0.0</td>\n",
       "      <td>0.0</td>\n",
       "      <td>0.0</td>\n",
       "      <td>0.0</td>\n",
       "      <td>0.0</td>\n",
       "      <td>0.0</td>\n",
       "      <td>0.0</td>\n",
       "      <td>0.0</td>\n",
       "      <td>0.0</td>\n",
       "      <td>0.0</td>\n",
       "    </tr>\n",
       "    <tr>\n",
       "      <th>4</th>\n",
       "      <td>0.0</td>\n",
       "      <td>0.0</td>\n",
       "      <td>0.0</td>\n",
       "      <td>0.0</td>\n",
       "      <td>0.0</td>\n",
       "      <td>0.0</td>\n",
       "      <td>0.0</td>\n",
       "      <td>0.0</td>\n",
       "      <td>0.0</td>\n",
       "      <td>0.0</td>\n",
       "      <td>...</td>\n",
       "      <td>0.0</td>\n",
       "      <td>0.0</td>\n",
       "      <td>0.0</td>\n",
       "      <td>0.0</td>\n",
       "      <td>0.0</td>\n",
       "      <td>0.0</td>\n",
       "      <td>0.0</td>\n",
       "      <td>0.0</td>\n",
       "      <td>0.0</td>\n",
       "      <td>0.0</td>\n",
       "    </tr>\n",
       "    <tr>\n",
       "      <th>5</th>\n",
       "      <td>0.0</td>\n",
       "      <td>0.0</td>\n",
       "      <td>0.0</td>\n",
       "      <td>0.0</td>\n",
       "      <td>0.0</td>\n",
       "      <td>0.0</td>\n",
       "      <td>0.0</td>\n",
       "      <td>0.0</td>\n",
       "      <td>0.0</td>\n",
       "      <td>0.0</td>\n",
       "      <td>...</td>\n",
       "      <td>0.0</td>\n",
       "      <td>0.0</td>\n",
       "      <td>0.0</td>\n",
       "      <td>0.0</td>\n",
       "      <td>0.0</td>\n",
       "      <td>0.0</td>\n",
       "      <td>0.0</td>\n",
       "      <td>0.0</td>\n",
       "      <td>0.0</td>\n",
       "      <td>0.0</td>\n",
       "    </tr>\n",
       "  </tbody>\n",
       "</table>\n",
       "<p>5 rows × 1650 columns</p>\n",
       "</div>"
      ],
      "text/plain": [
       "movie_id  1     2     3     4     5     6     7     8     9     10    ...  \\\n",
       "user_id                                                               ...   \n",
       "1          5.0   3.0   4.0   3.0   3.0   0.0   4.0   1.0   5.0   0.0  ...   \n",
       "2          4.0   0.0   0.0   0.0   0.0   0.0   0.0   0.0   0.0   2.0  ...   \n",
       "3          0.0   0.0   0.0   0.0   0.0   0.0   0.0   0.0   0.0   0.0  ...   \n",
       "4          0.0   0.0   0.0   0.0   0.0   0.0   0.0   0.0   0.0   0.0  ...   \n",
       "5          0.0   0.0   0.0   0.0   0.0   0.0   0.0   0.0   0.0   0.0  ...   \n",
       "\n",
       "movie_id  1673  1674  1675  1676  1677  1678  1679  1680  1681  1682  \n",
       "user_id                                                               \n",
       "1          0.0   0.0   0.0   0.0   0.0   0.0   0.0   0.0   0.0   0.0  \n",
       "2          0.0   0.0   0.0   0.0   0.0   0.0   0.0   0.0   0.0   0.0  \n",
       "3          0.0   0.0   0.0   0.0   0.0   0.0   0.0   0.0   0.0   0.0  \n",
       "4          0.0   0.0   0.0   0.0   0.0   0.0   0.0   0.0   0.0   0.0  \n",
       "5          0.0   0.0   0.0   0.0   0.0   0.0   0.0   0.0   0.0   0.0  \n",
       "\n",
       "[5 rows x 1650 columns]"
      ]
     },
     "execution_count": 144,
     "metadata": {},
     "output_type": "execute_result"
    }
   ],
   "source": [
    "user_item_pivot.head()"
   ]
  },
  {
   "cell_type": "code",
   "execution_count": 45,
   "id": "b88050e2",
   "metadata": {},
   "outputs": [],
   "source": [
    "from sklearn.metrics.pairwise import cosine_similarity"
   ]
  },
  {
   "cell_type": "code",
   "execution_count": 145,
   "id": "7381bc39",
   "metadata": {},
   "outputs": [],
   "source": [
    "user_similarity = cosine_similarity(user_item_pivot)"
   ]
  },
  {
   "cell_type": "code",
   "execution_count": 146,
   "id": "0a2dbb3a",
   "metadata": {},
   "outputs": [],
   "source": [
    "def movie_recommender(user_item_pivot, user_similarity, user, k=20, top=10):\n",
    "    # Get location of the actual movie in the User-Items matrix\n",
    "    uindex = user_item_pivot.index.get_loc(user)\n",
    "    # Use it to index the User similarity matrix\n",
    "    similar_users = user_similarity[uindex]\n",
    "    # obtain the indices of the top k most similar users\n",
    "    similar_users = user_item_pivot.index[similar_users.argpartition(-k)[-k:]]\n",
    "    # Obtain the mean ratings of those users for all movies\n",
    "    movies = user_item_pivot.loc[similar_users].mean(0).sort_values(ascending=False)\n",
    "    # Discard already seen movies\n",
    "    seen_movies = user_item_pivot.loc[user].gt(0)\n",
    "    seen_movies = seen_movies.index[seen_movies].tolist()\n",
    "    top_movies = movies.drop(seen_movies).head(top)\n",
    "    top_movies = pd.DataFrame(top_movies).reset_index().rename(columns={0:'Mean_Rating'}).head(top)\n",
    "    # return recommendations - top similar users rated movies\n",
    "    #return top_movies.index.to_frame().reset_index(drop=True)\n",
    "    return top_movies.merge(movie_data, how='inner', on='movie_id')"
   ]
  },
  {
   "cell_type": "code",
   "execution_count": 95,
   "id": "eac6d660",
   "metadata": {},
   "outputs": [],
   "source": [
    "def test_recommender(user_item_pivot, user_similarity, user, k=20, top=10):\n",
    "    # Get location of the actual movie in the User-Items matrix\n",
    "    uindex = user_item_pivot.index.get_loc(user)\n",
    "    # Use it to index the User similarity matrix\n",
    "    similar_users = user_similarity[uindex]\n",
    "    # obtain the indices of the top k most similar users\n",
    "    similar_users = user_item_pivot.index[similar_users.argpartition(-k)[-k:]]\n",
    "    # Obtain the mean ratings of those users for all movies\n",
    "    movies = user_item_pivot.loc[similar_users].mean(0).sort_values(ascending=False)\n",
    "    # Discard already seen movies\n",
    "    #seen_movies = user_item_pivot.loc[user].gt(0)\n",
    "    #seen_movies = seen_movies.index[seen_movies].tolist()\n",
    "    top_movies = movies.head(top)\n",
    "    top_movies = pd.DataFrame(top_movies).reset_index().rename(columns={0:'Mean_Rating'}).head(top)\n",
    "    # return recommendations - top similar users rated movies\n",
    "    #return top_movies.index.to_frame().reset_index(drop=True)\n",
    "    return top_movies.merge(movie_data, how='inner', on='movie_id')"
   ]
  },
  {
   "cell_type": "code",
   "execution_count": 157,
   "id": "cf705047",
   "metadata": {},
   "outputs": [
    {
     "data": {
      "text/plain": [
       "0"
      ]
     },
     "execution_count": 157,
     "metadata": {},
     "output_type": "execute_result"
    }
   ],
   "source": [
    "movies.drop(seen_movies).isin(test).sum()"
   ]
  },
  {
   "cell_type": "code",
   "execution_count": 180,
   "id": "e65504d6",
   "metadata": {},
   "outputs": [],
   "source": [
    "res = movie_recommender(user_item_pivot,user_similarity,1)"
   ]
  },
  {
   "cell_type": "code",
   "execution_count": 174,
   "id": "9d06deb7",
   "metadata": {
    "scrolled": true
   },
   "outputs": [],
   "source": [
    "unseen = pd.Series(ratings_test[ratings_test['user_id']==1]['movie_id'])"
   ]
  },
  {
   "cell_type": "code",
   "execution_count": 181,
   "id": "53411309",
   "metadata": {
    "scrolled": true
   },
   "outputs": [
    {
     "data": {
      "text/plain": [
       "0    174\n",
       "1     96\n",
       "2     98\n",
       "3     12\n",
       "4    100\n",
       "5     56\n",
       "6     69\n",
       "7     64\n",
       "8    423\n",
       "9    183\n",
       "Name: movie_id, dtype: int64"
      ]
     },
     "execution_count": 181,
     "metadata": {},
     "output_type": "execute_result"
    }
   ],
   "source": [
    "res['movie_id']"
   ]
  },
  {
   "cell_type": "code",
   "execution_count": 185,
   "id": "87c99b85",
   "metadata": {
    "scrolled": true
   },
   "outputs": [
    {
     "data": {
      "text/html": [
       "<div>\n",
       "<style scoped>\n",
       "    .dataframe tbody tr th:only-of-type {\n",
       "        vertical-align: middle;\n",
       "    }\n",
       "\n",
       "    .dataframe tbody tr th {\n",
       "        vertical-align: top;\n",
       "    }\n",
       "\n",
       "    .dataframe thead th {\n",
       "        text-align: right;\n",
       "    }\n",
       "</style>\n",
       "<table border=\"1\" class=\"dataframe\">\n",
       "  <thead>\n",
       "    <tr style=\"text-align: right;\">\n",
       "      <th></th>\n",
       "      <th>user_id</th>\n",
       "      <th>movie_id</th>\n",
       "      <th>rating</th>\n",
       "    </tr>\n",
       "  </thead>\n",
       "  <tbody>\n",
       "    <tr>\n",
       "      <th>2</th>\n",
       "      <td>1</td>\n",
       "      <td>12</td>\n",
       "      <td>5</td>\n",
       "    </tr>\n",
       "    <tr>\n",
       "      <th>19</th>\n",
       "      <td>1</td>\n",
       "      <td>56</td>\n",
       "      <td>4</td>\n",
       "    </tr>\n",
       "    <tr>\n",
       "      <th>23</th>\n",
       "      <td>1</td>\n",
       "      <td>64</td>\n",
       "      <td>5</td>\n",
       "    </tr>\n",
       "    <tr>\n",
       "      <th>26</th>\n",
       "      <td>1</td>\n",
       "      <td>69</td>\n",
       "      <td>3</td>\n",
       "    </tr>\n",
       "    <tr>\n",
       "      <th>42</th>\n",
       "      <td>1</td>\n",
       "      <td>96</td>\n",
       "      <td>5</td>\n",
       "    </tr>\n",
       "    <tr>\n",
       "      <th>44</th>\n",
       "      <td>1</td>\n",
       "      <td>98</td>\n",
       "      <td>4</td>\n",
       "    </tr>\n",
       "    <tr>\n",
       "      <th>45</th>\n",
       "      <td>1</td>\n",
       "      <td>100</td>\n",
       "      <td>5</td>\n",
       "    </tr>\n",
       "    <tr>\n",
       "      <th>80</th>\n",
       "      <td>1</td>\n",
       "      <td>174</td>\n",
       "      <td>5</td>\n",
       "    </tr>\n",
       "    <tr>\n",
       "      <th>84</th>\n",
       "      <td>1</td>\n",
       "      <td>183</td>\n",
       "      <td>5</td>\n",
       "    </tr>\n",
       "  </tbody>\n",
       "</table>\n",
       "</div>"
      ],
      "text/plain": [
       "    user_id  movie_id  rating\n",
       "2         1        12       5\n",
       "19        1        56       4\n",
       "23        1        64       5\n",
       "26        1        69       3\n",
       "42        1        96       5\n",
       "44        1        98       4\n",
       "45        1       100       5\n",
       "80        1       174       5\n",
       "84        1       183       5"
      ]
     },
     "execution_count": 185,
     "metadata": {},
     "output_type": "execute_result"
    }
   ],
   "source": [
    "ratings_test[(ratings_test['movie_id'].isin(res['movie_id']))&(ratings_test['user_id']==1)]"
   ]
  },
  {
   "cell_type": "code",
   "execution_count": null,
   "id": "8704dcbb",
   "metadata": {},
   "outputs": [],
   "source": [
    "# to check the recommendations\n",
    "test_user = ratings[ratings['user_id']==12]"
   ]
  },
  {
   "cell_type": "code",
   "execution_count": null,
   "id": "29018d6f",
   "metadata": {},
   "outputs": [],
   "source": [
    "test_user.sort_values(by='rating',ascending=False)[:10]"
   ]
  },
  {
   "cell_type": "code",
   "execution_count": 16,
   "id": "8c21bfe6",
   "metadata": {},
   "outputs": [],
   "source": [
    "data = ratings[(ratings['user_id']>=1) &(ratings['user_id']<=500)]"
   ]
  },
  {
   "cell_type": "code",
   "execution_count": 18,
   "id": "07aff815",
   "metadata": {},
   "outputs": [],
   "source": [
    "pearson_data = data.pivot('movie_id','user_id','rating').fillna(0)"
   ]
  },
  {
   "cell_type": "code",
   "execution_count": 35,
   "id": "b6c123a5",
   "metadata": {},
   "outputs": [],
   "source": [
    "pearson_similarities = pearson_data.corr(method='pearson').to_numpy()"
   ]
  },
  {
   "cell_type": "code",
   "execution_count": 30,
   "id": "419b81de",
   "metadata": {},
   "outputs": [],
   "source": [
    "def pearson_recommender(user_item_pivot, user_similarity, user, k=20, top=10):\n",
    "    # Get location of the actual movie in the User-Items matrix\n",
    "    uindex = user_item_pivot.index.get_loc(user)\n",
    "    # Use it to index the User similarity matrix\n",
    "    similar_users = user_similarity[uindex]\n",
    "    # obtain the indices of the top k most similar users\n",
    "    similar_users = user_item_pivot.index[similar_users.argpartition(-k)[-k:]]\n",
    "    # Obtain the mean ratings of those users for all movies\n",
    "    movies = user_item_pivot.loc[similar_users].mean(0).sort_values(ascending=False)\n",
    "    # Discard already seen movies\n",
    "    seen_movies = user_item_pivot.loc[user].gt(0)\n",
    "    seen_movies = seen_movies.index[seen_movies].tolist()\n",
    "    top_movies = movies.drop(seen_movies).head(top)\n",
    "    # return recommendations - top similar users rated movies\n",
    "    return top_movies.index.to_frame().reset_index(drop=True)"
   ]
  },
  {
   "cell_type": "code",
   "execution_count": 59,
   "id": "0d5678f1",
   "metadata": {},
   "outputs": [],
   "source": [
    "k = pd.Series([True,False,True])"
   ]
  },
  {
   "cell_type": "code",
   "execution_count": 60,
   "id": "4c4d830c",
   "metadata": {},
   "outputs": [
    {
     "data": {
      "text/plain": [
       "Int64Index([0, 2], dtype='int64')"
      ]
     },
     "execution_count": 60,
     "metadata": {},
     "output_type": "execute_result"
    }
   ],
   "source": [
    "k.index[k]"
   ]
  },
  {
   "cell_type": "code",
   "execution_count": 38,
   "id": "c99d552e",
   "metadata": {},
   "outputs": [],
   "source": [
    "pearson_result = pearson_recommender(data.pivot('user_id','movie_id','rating').fillna(0),pearson_similarities,12)"
   ]
  },
  {
   "cell_type": "code",
   "execution_count": 39,
   "id": "d51b0501",
   "metadata": {},
   "outputs": [],
   "source": [
    "pearson_result = pearson_result.merge(movie_data,on='movie_id',how='inner')"
   ]
  },
  {
   "cell_type": "code",
   "execution_count": 40,
   "id": "1a81e608",
   "metadata": {},
   "outputs": [
    {
     "data": {
      "text/html": [
       "<div>\n",
       "<style scoped>\n",
       "    .dataframe tbody tr th:only-of-type {\n",
       "        vertical-align: middle;\n",
       "    }\n",
       "\n",
       "    .dataframe tbody tr th {\n",
       "        vertical-align: top;\n",
       "    }\n",
       "\n",
       "    .dataframe thead th {\n",
       "        text-align: right;\n",
       "    }\n",
       "</style>\n",
       "<table border=\"1\" class=\"dataframe\">\n",
       "  <thead>\n",
       "    <tr style=\"text-align: right;\">\n",
       "      <th></th>\n",
       "      <th>movie_id</th>\n",
       "      <th>title</th>\n",
       "      <th>genres</th>\n",
       "    </tr>\n",
       "  </thead>\n",
       "  <tbody>\n",
       "    <tr>\n",
       "      <th>0</th>\n",
       "      <td>2683</td>\n",
       "      <td>Austin Powers: The Spy Who Shagged Me (1999)</td>\n",
       "      <td>Action|Adventure|Comedy</td>\n",
       "    </tr>\n",
       "    <tr>\n",
       "      <th>1</th>\n",
       "      <td>2571</td>\n",
       "      <td>Matrix, The (1999)</td>\n",
       "      <td>Action|Sci-Fi|Thriller</td>\n",
       "    </tr>\n",
       "    <tr>\n",
       "      <th>2</th>\n",
       "      <td>2716</td>\n",
       "      <td>Ghostbusters (a.k.a. Ghost Busters) (1984)</td>\n",
       "      <td>Action|Comedy|Fantasy|Sci-Fi</td>\n",
       "    </tr>\n",
       "    <tr>\n",
       "      <th>3</th>\n",
       "      <td>1196</td>\n",
       "      <td>Star Wars: Episode V - The Empire Strikes Back...</td>\n",
       "      <td>Action|Adventure|Sci-Fi</td>\n",
       "    </tr>\n",
       "    <tr>\n",
       "      <th>4</th>\n",
       "      <td>50</td>\n",
       "      <td>Usual Suspects, The (1995)</td>\n",
       "      <td>Crime|Mystery|Thriller</td>\n",
       "    </tr>\n",
       "    <tr>\n",
       "      <th>5</th>\n",
       "      <td>2706</td>\n",
       "      <td>American Pie (1999)</td>\n",
       "      <td>Comedy</td>\n",
       "    </tr>\n",
       "    <tr>\n",
       "      <th>6</th>\n",
       "      <td>260</td>\n",
       "      <td>Star Wars: Episode IV - A New Hope (a.k.a. Sta...</td>\n",
       "      <td>Action|Adventure|Sci-Fi</td>\n",
       "    </tr>\n",
       "    <tr>\n",
       "      <th>7</th>\n",
       "      <td>2028</td>\n",
       "      <td>Saving Private Ryan (1998)</td>\n",
       "      <td>Action|Drama|War</td>\n",
       "    </tr>\n",
       "    <tr>\n",
       "      <th>8</th>\n",
       "      <td>3793</td>\n",
       "      <td>X-Men (2000)</td>\n",
       "      <td>Action|Adventure|Sci-Fi</td>\n",
       "    </tr>\n",
       "    <tr>\n",
       "      <th>9</th>\n",
       "      <td>589</td>\n",
       "      <td>Terminator 2: Judgment Day (1991)</td>\n",
       "      <td>Action|Sci-Fi</td>\n",
       "    </tr>\n",
       "  </tbody>\n",
       "</table>\n",
       "</div>"
      ],
      "text/plain": [
       "   movie_id                                              title  \\\n",
       "0      2683       Austin Powers: The Spy Who Shagged Me (1999)   \n",
       "1      2571                                 Matrix, The (1999)   \n",
       "2      2716         Ghostbusters (a.k.a. Ghost Busters) (1984)   \n",
       "3      1196  Star Wars: Episode V - The Empire Strikes Back...   \n",
       "4        50                         Usual Suspects, The (1995)   \n",
       "5      2706                                American Pie (1999)   \n",
       "6       260  Star Wars: Episode IV - A New Hope (a.k.a. Sta...   \n",
       "7      2028                         Saving Private Ryan (1998)   \n",
       "8      3793                                       X-Men (2000)   \n",
       "9       589                  Terminator 2: Judgment Day (1991)   \n",
       "\n",
       "                         genres  \n",
       "0       Action|Adventure|Comedy  \n",
       "1        Action|Sci-Fi|Thriller  \n",
       "2  Action|Comedy|Fantasy|Sci-Fi  \n",
       "3       Action|Adventure|Sci-Fi  \n",
       "4        Crime|Mystery|Thriller  \n",
       "5                        Comedy  \n",
       "6       Action|Adventure|Sci-Fi  \n",
       "7              Action|Drama|War  \n",
       "8       Action|Adventure|Sci-Fi  \n",
       "9                 Action|Sci-Fi  "
      ]
     },
     "execution_count": 40,
     "metadata": {},
     "output_type": "execute_result"
    }
   ],
   "source": [
    "pearson_result"
   ]
  }
 ],
 "metadata": {
  "kernelspec": {
   "display_name": "Python 3 (ipykernel)",
   "language": "python",
   "name": "python3"
  },
  "language_info": {
   "codemirror_mode": {
    "name": "ipython",
    "version": 3
   },
   "file_extension": ".py",
   "mimetype": "text/x-python",
   "name": "python",
   "nbconvert_exporter": "python",
   "pygments_lexer": "ipython3",
   "version": "3.9.12"
  }
 },
 "nbformat": 4,
 "nbformat_minor": 5
}
