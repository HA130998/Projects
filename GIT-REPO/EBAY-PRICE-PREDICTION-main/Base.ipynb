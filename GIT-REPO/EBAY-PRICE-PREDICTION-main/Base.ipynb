{
 "cells": [
  {
   "cell_type": "code",
   "execution_count": 21,
   "id": "415b6169",
   "metadata": {},
   "outputs": [],
   "source": [
    "import pandas as pd\n",
    "import numpy as np\n",
    "import re\n",
    "cardata = pd.read_csv('ebay_car_scrapped_dataset.csv',encoding='latin-1')"
   ]
  },
  {
   "cell_type": "code",
   "execution_count": 22,
   "id": "0366fff0",
   "metadata": {},
   "outputs": [],
   "source": [
    "cardata[\"Car Price\"] = cardata[\"Car Price\"].apply(lambda x:re.sub(\"\\D\", \"\", x.split(\".\")[0]))\n",
    "cardata[\"Car Price Original\"] = cardata[\"Car Price\"]\n",
    "cardata[\"Car Price\"] = cardata[\"Car Price\"].astype(int)"
   ]
  },
  {
   "cell_type": "code",
   "execution_count": 3,
   "id": "7f16c339",
   "metadata": {},
   "outputs": [],
   "source": [
    "bins = [0, 20000, 50000,999999]\n",
    "labels = ['1', '2', '3']\n",
    "cardata[\"Car Price\"] = pd.cut(x = cardata[\"Car Price\"], bins = bins, labels = labels, include_lowest = True)"
   ]
  },
  {
   "cell_type": "code",
   "execution_count": 4,
   "id": "9ab16568",
   "metadata": {},
   "outputs": [
    {
     "data": {
      "text/plain": [
       "2    1181\n",
       "1    1179\n",
       "3    1100\n",
       "Name: Car Price, dtype: int64"
      ]
     },
     "execution_count": 4,
     "metadata": {},
     "output_type": "execute_result"
    }
   ],
   "source": [
    "cardata['Car Price'].value_counts()"
   ]
  },
  {
   "cell_type": "code",
   "execution_count": 23,
   "id": "8e7a6679",
   "metadata": {},
   "outputs": [],
   "source": [
    "cardata = cardata.dropna(axis=1)"
   ]
  },
  {
   "cell_type": "code",
   "execution_count": 25,
   "id": "d7e7fee9",
   "metadata": {},
   "outputs": [],
   "source": [
    "cardata = cardata.dropna(axis=0)"
   ]
  },
  {
   "cell_type": "code",
   "execution_count": 26,
   "id": "6be0fb60",
   "metadata": {},
   "outputs": [],
   "source": [
    "from sklearn.metrics import classification_report\n",
    "from sklearn.model_selection import train_test_split\n",
    "\n",
    "traindata = pd.get_dummies(cardata.drop(['Year:','Car Price','Report Car Name','VIN (Vehicle Identification Number):','Make:','Car Price Original'],axis=1))\n",
    "testdata = cardata['Car Price']\n",
    "xtrain,xtest,ytrain,ytest = train_test_split(traindata,testdata,test_size=0.2,random_state=101)\n"
   ]
  },
  {
   "cell_type": "code",
   "execution_count": 27,
   "id": "215d6b07",
   "metadata": {},
   "outputs": [],
   "source": [
    "k = xtrain.copy(deep=True)"
   ]
  },
  {
   "cell_type": "code",
   "execution_count": 28,
   "id": "8add551c",
   "metadata": {},
   "outputs": [],
   "source": [
    "k['price'] = ytrain"
   ]
  },
  {
   "cell_type": "code",
   "execution_count": 30,
   "id": "fe108ca8",
   "metadata": {},
   "outputs": [
    {
     "name": "stderr",
     "output_type": "stream",
     "text": [
      "/Users/harita_addanki/opt/anaconda3/lib/python3.9/site-packages/seaborn/distributions.py:2619: FutureWarning: `distplot` is a deprecated function and will be removed in a future version. Please adapt your code to use either `displot` (a figure-level function with similar flexibility) or `histplot` (an axes-level function for histograms).\n",
      "  warnings.warn(msg, FutureWarning)\n"
     ]
    },
    {
     "data": {
      "text/plain": [
       "<AxesSubplot:xlabel='price', ylabel='Density'>"
      ]
     },
     "execution_count": 30,
     "metadata": {},
     "output_type": "execute_result"
    },
    {
     "data": {
      "image/png": "[encoded data removed]",
      "text/plain": [
       "<Figure size 432x288 with 1 Axes>"
      ]
     },
     "metadata": {
      "needs_background": "light"
     },
     "output_type": "display_data"
    }
   ],
   "source": [
    "import seaborn as sns\n",
    "sns.distplot(k['price'])"
   ]
  },
  {
   "cell_type": "code",
   "execution_count": 11,
   "id": "fb11bba3",
   "metadata": {
    "scrolled": true
   },
   "outputs": [
    {
     "data": {
      "text/plain": [
       "1    959\n",
       "2    949\n",
       "3    860\n",
       "Name: Car Price, dtype: int64"
      ]
     },
     "execution_count": 11,
     "metadata": {},
     "output_type": "execute_result"
    }
   ],
   "source": [
    "ytrain.value_counts()"
   ]
  },
  {
   "cell_type": "code",
   "execution_count": 7,
   "id": "fc395f86",
   "metadata": {},
   "outputs": [],
   "source": [
    "regex = re.compile(r\"\\[|\\]|<|:\", re.IGNORECASE)"
   ]
  },
  {
   "cell_type": "code",
   "execution_count": 8,
   "id": "732a7aea",
   "metadata": {},
   "outputs": [],
   "source": [
    "cardata.columns = [regex.sub(\"_\", col) if any(x in str(col) for x in set(('[', ']', '<',':'))) else col for col in cardata.columns.values]"
   ]
  },
  {
   "cell_type": "code",
   "execution_count": 9,
   "id": "02e6472f",
   "metadata": {},
   "outputs": [
    {
     "data": {
      "text/plain": [
       "Index(['Car Name', 'Car Price', 'Year_',\n",
       "       'VIN (Vehicle Identification Number)_', 'Make_', 'Condition_',\n",
       "       'Report Car Name', 'State Title Brand Reported', 'Accidents Reported',\n",
       "       'Damage Reported', 'Odometer', 'Open Recall', 'Car Price Original'],\n",
       "      dtype='object')"
      ]
     },
     "execution_count": 9,
     "metadata": {},
     "output_type": "execute_result"
    }
   ],
   "source": [
    "cardata.columns"
   ]
  },
  {
   "cell_type": "code",
   "execution_count": 10,
   "id": "8ac78354",
   "metadata": {
    "scrolled": true
   },
   "outputs": [
    {
     "name": "stdout",
     "output_type": "stream",
     "text": [
      "\t\tLogistic Regression\n",
      "\n",
      "\n",
      "              precision    recall  f1-score   support\n",
      "\n",
      "           1       0.61      0.57      0.59       220\n",
      "           2       0.74      0.35      0.47       232\n",
      "           3       0.56      0.88      0.68       240\n",
      "\n",
      "    accuracy                           0.60       692\n",
      "   macro avg       0.64      0.60      0.58       692\n",
      "weighted avg       0.64      0.60      0.58       692\n",
      "\n"
     ]
    }
   ],
   "source": [
    "from sklearn.linear_model import LogisticRegression\n",
    "model = LogisticRegression(random_state=101, multi_class='multinomial', penalty='none', solver='newton-cg')\n",
    "model = model.fit(xtrain, ytrain)\n",
    "preds = model.predict(xtest)\n",
    "print('\\t\\tLogistic Regression')\n",
    "print('\\n')\n",
    "print(classification_report(ytest,preds))"
   ]
  },
  {
   "cell_type": "code",
   "execution_count": 11,
   "id": "43b7378b",
   "metadata": {},
   "outputs": [
    {
     "data": {
      "text/plain": [
       "(2768, 2577)"
      ]
     },
     "execution_count": 11,
     "metadata": {},
     "output_type": "execute_result"
    }
   ],
   "source": [
    "xtrain.shape"
   ]
  },
  {
   "cell_type": "code",
   "execution_count": 12,
   "id": "8c08c6e3",
   "metadata": {},
   "outputs": [
    {
     "data": {
      "text/plain": [
       "(692, 2577)"
      ]
     },
     "execution_count": 12,
     "metadata": {},
     "output_type": "execute_result"
    }
   ],
   "source": [
    "xtest.shape"
   ]
  },
  {
   "cell_type": "code",
   "execution_count": 23,
   "id": "a3d694e8",
   "metadata": {
    "scrolled": true
   },
   "outputs": [
    {
     "name": "stdout",
     "output_type": "stream",
     "text": [
      "0.7659403306440694\n"
     ]
    }
   ],
   "source": [
    "import numpy as np\n",
    "from sklearn.metrics import roc_auc_score\n",
    "print(roc_auc_score(ytest,model.predict_proba(xtest),multi_class='ovr'))"
   ]
  },
  {
   "cell_type": "code",
   "execution_count": 24,
   "id": "b338543f",
   "metadata": {
    "scrolled": false
   },
   "outputs": [
    {
     "name": "stdout",
     "output_type": "stream",
     "text": [
      "\t\tNaive Bayes Classifier\n",
      "\n",
      "\n",
      "              precision    recall  f1-score   support\n",
      "\n",
      "           1       0.84      0.34      0.49       220\n",
      "           2       0.85      0.29      0.43       232\n",
      "           3       0.45      0.97      0.61       240\n",
      "\n",
      "    accuracy                           0.54       692\n",
      "   macro avg       0.71      0.53      0.51       692\n",
      "weighted avg       0.71      0.54      0.51       692\n",
      "\n"
     ]
    }
   ],
   "source": [
    "#optimized MODEL FOR NB \n",
    "from sklearn.naive_bayes import GaussianNB\n",
    "nb = GaussianNB()\n",
    "nb.fit(xtrain,ytrain)\n",
    "print('\\t\\tNaive Bayes Classifier')\n",
    "print('\\n')\n",
    "print(classification_report(ytest,nb.predict(xtest)))"
   ]
  },
  {
   "cell_type": "code",
   "execution_count": 25,
   "id": "0b987a55",
   "metadata": {},
   "outputs": [
    {
     "name": "stdout",
     "output_type": "stream",
     "text": [
      "0.6556480477436194\n"
     ]
    }
   ],
   "source": [
    "import numpy as np\n",
    "from sklearn.metrics import roc_auc_score\n",
    "print(roc_auc_score(ytest,nb.predict_proba(xtest),multi_class='ovr'))"
   ]
  },
  {
   "cell_type": "code",
   "execution_count": 30,
   "id": "cf1c8f30",
   "metadata": {
    "scrolled": true
   },
   "outputs": [
    {
     "name": "stdout",
     "output_type": "stream",
     "text": [
      "\t\tSupport Vector Machine Classifier\n",
      "\n",
      "\n",
      "              precision    recall  f1-score   support\n",
      "\n",
      "           1       0.48      0.26      0.34       220\n",
      "           2       0.49      0.35      0.41       232\n",
      "           3       0.49      0.82      0.61       240\n",
      "\n",
      "    accuracy                           0.49       692\n",
      "   macro avg       0.49      0.48      0.45       692\n",
      "weighted avg       0.49      0.49      0.46       692\n",
      "\n"
     ]
    }
   ],
   "source": [
    "#SVC BASE MODEL\n",
    "from sklearn.svm import SVC\n",
    "svc = SVC()\n",
    "svc.fit(xtrain,ytrain)\n",
    "print('\\t\\tSupport Vector Machine Classifier')\n",
    "print('\\n')\n",
    "print(classification_report(ytest,svc.predict(xtest)))"
   ]
  },
  {
   "cell_type": "code",
   "execution_count": 18,
   "id": "058c37dd",
   "metadata": {
    "scrolled": true
   },
   "outputs": [
    {
     "name": "stdout",
     "output_type": "stream",
     "text": [
      "\t\tRandom Forest Classifier\n",
      "\n",
      "\n",
      "              precision    recall  f1-score   support\n",
      "\n",
      "           1       0.57      0.63      0.60       220\n",
      "           2       0.72      0.33      0.45       232\n",
      "           3       0.58      0.84      0.69       240\n",
      "\n",
      "    accuracy                           0.60       692\n",
      "   macro avg       0.63      0.60      0.58       692\n",
      "weighted avg       0.63      0.60      0.58       692\n",
      "\n"
     ]
    }
   ],
   "source": [
    "from sklearn.ensemble import RandomForestClassifier\n",
    "\n",
    "\n",
    "rd = RandomForestClassifier(random_state=101)\n",
    "rd.fit(xtrain,ytrain)\n",
    "pred = rd.predict(xtest)\n",
    "print('\\t\\tRandom Forest Classifier')\n",
    "print('\\n')\n",
    "print(classification_report(ytest,pred))"
   ]
  },
  {
   "cell_type": "code",
   "execution_count": 26,
   "id": "f4bd6725",
   "metadata": {},
   "outputs": [
    {
     "name": "stdout",
     "output_type": "stream",
     "text": [
      "0.7641725688308402\n"
     ]
    }
   ],
   "source": [
    "import numpy as np\n",
    "from sklearn.metrics import roc_auc_score\n",
    "print(roc_auc_score(ytest,rd.predict_proba(xtest),multi_class='ovr'))"
   ]
  },
  {
   "cell_type": "code",
   "execution_count": 29,
   "id": "891a5f5a",
   "metadata": {},
   "outputs": [
    {
     "data": {
      "image/png": "[encoded data removed]",
      "text/plain": [
       "<Figure size 864x360 with 1 Axes>"
      ]
     },
     "metadata": {},
     "output_type": "display_data"
    }
   ],
   "source": [
    "import seaborn as sns\n",
    "import matplotlib.pyplot as plt\n",
    "k = pd.DataFrame({'Model':['Naive Bayes','Logistic Regression','Random Forest'],'ROC_Score':[0.66,0.77,0.76]})\n",
    "sns.set(font_scale=2)\n",
    "plt.figure(figsize=(12,5))\n",
    "ax = sns.barplot(data=k,x='Model',y='ROC_Score')\n",
    "for i in ax.containers:\n",
    "    ax.bar_label(i,)"
   ]
  }
 ],
 "metadata": {
  "kernelspec": {
   "display_name": "Python 3 (ipykernel)",
   "language": "python",
   "name": "python3"
  },
  "language_info": {
   "codemirror_mode": {
    "name": "ipython",
    "version": 3
   },
   "file_extension": ".py",
   "mimetype": "text/x-python",
   "name": "python",
   "nbconvert_exporter": "python",
   "pygments_lexer": "ipython3",
   "version": "3.9.12"
  }
 },
 "nbformat": 4,
 "nbformat_minor": 5
}
