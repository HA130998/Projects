{
 "cells": [
  {
   "cell_type": "code",
   "execution_count": null,
   "id": "5404ecd4",
   "metadata": {},
   "outputs": [],
   "source": [
    "import pandas as pd\n",
    "import numpy as np"
   ]
  },
  {
   "cell_type": "code",
   "execution_count": null,
   "id": "d31fc5ee",
   "metadata": {},
   "outputs": [],
   "source": [
    "import seaborn as sns"
   ]
  },
  {
   "cell_type": "code",
   "execution_count": null,
   "id": "dbe11637",
   "metadata": {},
   "outputs": [],
   "source": [
    "cardata = pd.read_csv('ebay_car_scrapped_dataset_Final.csv')"
   ]
  },
  {
   "cell_type": "code",
   "execution_count": null,
   "id": "c5607f6f",
   "metadata": {},
   "outputs": [],
   "source": [
    "data = pd.read_csv('ebay_car_scrapped_dataset_Final.csv')"
   ]
  },
  {
   "cell_type": "code",
   "execution_count": null,
   "id": "4fc9730d",
   "metadata": {},
   "outputs": [],
   "source": [
    "cardata.head()"
   ]
  },
  {
   "cell_type": "code",
   "execution_count": null,
   "id": "a5bc6960",
   "metadata": {},
   "outputs": [],
   "source": [
    "sns.pairplot(cardata)"
   ]
  },
  {
   "cell_type": "code",
   "execution_count": null,
   "id": "9d417802",
   "metadata": {},
   "outputs": [],
   "source": [
    "cardata.info()"
   ]
  },
  {
   "cell_type": "code",
   "execution_count": null,
   "id": "fe40e83f",
   "metadata": {},
   "outputs": [],
   "source": [
    "cardata['Year'] = cardata['Year'].apply(str)"
   ]
  },
  {
   "cell_type": "code",
   "execution_count": null,
   "id": "1819cab3",
   "metadata": {},
   "outputs": [],
   "source": [
    "cardata.info()"
   ]
  },
  {
   "cell_type": "code",
   "execution_count": null,
   "id": "3999aa9e",
   "metadata": {},
   "outputs": [],
   "source": [
    "cardata = pd.get_dummies(cardata)"
   ]
  },
  {
   "cell_type": "code",
   "execution_count": null,
   "id": "327501e2",
   "metadata": {},
   "outputs": [],
   "source": [
    "cardata.head()"
   ]
  },
  {
   "cell_type": "code",
   "execution_count": null,
   "id": "583da323",
   "metadata": {},
   "outputs": [],
   "source": [
    "cardata.info()"
   ]
  },
  {
   "cell_type": "code",
   "execution_count": null,
   "id": "b9bb2968",
   "metadata": {},
   "outputs": [],
   "source": [
    "#base model\n",
    "\n",
    "from sklearn.model_selection import train_test_split"
   ]
  },
  {
   "cell_type": "code",
   "execution_count": null,
   "id": "217275e1",
   "metadata": {},
   "outputs": [],
   "source": [
    "train_data = cardata.drop(['Car Price_0 - 20k','Car Price_20k - 40k','Car Price_40k - 60k','Car Price_60k - 80k','Car Price_80k+'],axis=1)"
   ]
  },
  {
   "cell_type": "code",
   "execution_count": null,
   "id": "c15121ba",
   "metadata": {},
   "outputs": [],
   "source": [
    "test_data = cardata[['Car Price_0 - 20k','Car Price_20k - 40k','Car Price_40k - 60k','Car Price_60k - 80k','Car Price_80k+']]"
   ]
  },
  {
   "cell_type": "code",
   "execution_count": null,
   "id": "46af2836",
   "metadata": {},
   "outputs": [],
   "source": [
    "xtrain,xtest,ytrain,ytest = train_test_split(train_data,test_data,test_size=0.2,random_state=101)"
   ]
  },
  {
   "cell_type": "code",
   "execution_count": null,
   "id": "7fbe6a88",
   "metadata": {},
   "outputs": [],
   "source": [
    "from sklearn.tree import DecisionTreeClassifier"
   ]
  },
  {
   "cell_type": "code",
   "execution_count": null,
   "id": "1bd1dd10",
   "metadata": {},
   "outputs": [],
   "source": [
    "dtree = DecisionTreeClassifier()"
   ]
  },
  {
   "cell_type": "code",
   "execution_count": null,
   "id": "50743988",
   "metadata": {},
   "outputs": [],
   "source": [
    "dtree.fit(xtrain,ytrain)"
   ]
  },
  {
   "cell_type": "code",
   "execution_count": null,
   "id": "9d6883fc",
   "metadata": {},
   "outputs": [],
   "source": [
    "predictions = dtree.predict(xtest)"
   ]
  },
  {
   "cell_type": "code",
   "execution_count": null,
   "id": "661f0754",
   "metadata": {},
   "outputs": [],
   "source": [
    "ytest.head()"
   ]
  },
  {
   "cell_type": "code",
   "execution_count": null,
   "id": "9e49cb8f",
   "metadata": {},
   "outputs": [],
   "source": [
    "predictions"
   ]
  },
  {
   "cell_type": "code",
   "execution_count": null,
   "id": "2f237c66",
   "metadata": {},
   "outputs": [],
   "source": [
    "from sklearn.metrics import classification_report"
   ]
  },
  {
   "cell_type": "code",
   "execution_count": null,
   "id": "74cd9ddb",
   "metadata": {},
   "outputs": [],
   "source": [
    "print(classification_report(ytest,predictions))"
   ]
  },
  {
   "cell_type": "code",
   "execution_count": null,
   "id": "f50f39d1",
   "metadata": {},
   "outputs": [],
   "source": [
    "#feature_selection with RFE\n",
    "from sklearn.feature_selection import RFE"
   ]
  },
  {
   "cell_type": "code",
   "execution_count": null,
   "id": "90128fc1",
   "metadata": {},
   "outputs": [],
   "source": [
    "rfe_selector = RFE(estimator=DecisionTreeClassifier(), n_features_to_select=40, step=5, verbose=5)\n",
    "rfe_selector.fit(xtrain,ytrain)\n",
    "rfe_support = rfe_selector.get_support()\n",
    "rfe_feature = xtrain.loc[:,rfe_support].columns.tolist()"
   ]
  },
  {
   "cell_type": "code",
   "execution_count": null,
   "id": "37da6dc9",
   "metadata": {},
   "outputs": [],
   "source": [
    "rfe_feature"
   ]
  },
  {
   "cell_type": "code",
   "execution_count": null,
   "id": "1ac7e9f2",
   "metadata": {},
   "outputs": [],
   "source": [
    "rfe_selector = RFE(estimator=DecisionTreeClassifier(), n_features_to_select=50, step=5, verbose=5)\n",
    "rfe_selector.fit(xtrain,ytrain)\n",
    "rfe_support = rfe_selector.get_support()\n",
    "rfe_feature = xtrain.loc[:,rfe_support].columns.tolist()"
   ]
  },
  {
   "cell_type": "code",
   "execution_count": null,
   "id": "d16b449d",
   "metadata": {},
   "outputs": [],
   "source": [
    "rfe_support"
   ]
  },
  {
   "cell_type": "code",
   "execution_count": 39,
   "id": "2e903f8f",
   "metadata": {},
   "outputs": [
    {
     "data": {
      "text/plain": [
       "['Mileage',\n",
       " 'Vehicle Age',\n",
       " 'Calculated Owners',\n",
       " 'Accidents Reported',\n",
       " 'Year_2012',\n",
       " 'Year_2013',\n",
       " 'Year_2014',\n",
       " 'Year_2015',\n",
       " 'Year_2016',\n",
       " 'Year_2017',\n",
       " 'Year_2018',\n",
       " 'Year_2019',\n",
       " 'Year_2020',\n",
       " 'Year_2021',\n",
       " 'Year_2022',\n",
       " 'Fuel Type_Diesel',\n",
       " 'Fuel Type_Electric',\n",
       " 'Fuel Type_Flexible',\n",
       " 'Fuel Type_Gasoline',\n",
       " 'Fuel Type_Hybrid-Electric',\n",
       " 'Vehicle Title_Clean',\n",
       " 'Vehicle Title_Flood, Water Damage',\n",
       " 'Vehicle Title_Rebuilt, Rebuildable & Reconstructed',\n",
       " 'Vehicle Title_Salvage',\n",
       " 'Condition_Certified pre-owned',\n",
       " 'Condition_New',\n",
       " 'Condition_Used',\n",
       " 'State Title Brand Reported_No',\n",
       " 'State Title Brand Reported_Yes',\n",
       " 'Odometer_No Problem',\n",
       " 'Odometer_Problem Reported',\n",
       " 'Open Recall_No',\n",
       " 'Open Recall_Yes',\n",
       " 'Number of Cylinders_eight',\n",
       " 'Number of Cylinders_five',\n",
       " 'Number of Cylinders_four',\n",
       " 'Number of Cylinders_six',\n",
       " 'Number of Cylinders_zero',\n",
       " 'Engine_1-2L',\n",
       " 'Engine_2-3L',\n",
       " 'Engine_3-4L',\n",
       " 'Engine_4-5L',\n",
       " 'Engine_5-6L',\n",
       " 'Engine_6-7L',\n",
       " 'Engine_7-8L',\n",
       " 'Engine_Electric',\n",
       " 'Body Type_CUV ',\n",
       " 'Body Type_Pickup ',\n",
       " 'Body Type_SUV ',\n",
       " 'Body Type_Sedan',\n",
       " 'Body Type_Sport Car ',\n",
       " 'Body Type_Van ',\n",
       " 'Size_Compact',\n",
       " 'Size_Fullsize',\n",
       " 'Size_Large',\n",
       " 'Size_Midsize',\n",
       " 'Size_Subcompact',\n",
       " 'Class_Economic',\n",
       " 'Class_Exotic',\n",
       " 'Class_Luxury']"
      ]
     },
     "execution_count": 39,
     "metadata": {},
     "output_type": "execute_result"
    }
   ],
   "source": [
    "rfe_feature"
   ]
  },
  {
   "cell_type": "code",
   "execution_count": null,
   "id": "a5b22ae0",
   "metadata": {},
   "outputs": [],
   "source": [
    "rfe_selector = RFE(estimator=DecisionTreeClassifier(), n_features_to_select=60, step=5, verbose=5)\n",
    "rfe_selector.fit(xtrain,ytrain)\n",
    "rfe_support = rfe_selector.get_support()\n",
    "rfe_feature = xtrain.loc[:,rfe_support].columns.tolist()"
   ]
  },
  {
   "cell_type": "code",
   "execution_count": null,
   "id": "8e541917",
   "metadata": {},
   "outputs": [],
   "source": [
    "rfe_feature"
   ]
  },
  {
   "cell_type": "code",
   "execution_count": null,
   "id": "a1be35a0",
   "metadata": {},
   "outputs": [],
   "source": [
    "train_data_1 = cardata[rfe_feature]"
   ]
  },
  {
   "cell_type": "code",
   "execution_count": null,
   "id": "a57a67d1",
   "metadata": {},
   "outputs": [],
   "source": [
    "train_data_1"
   ]
  },
  {
   "cell_type": "code",
   "execution_count": null,
   "id": "c38501e2",
   "metadata": {},
   "outputs": [],
   "source": [
    "xtrain,xtest,ytrain,ytest = train_test_split(train_data_1,test_data,test_size=0.2,random_state=101)"
   ]
  },
  {
   "cell_type": "code",
   "execution_count": null,
   "id": "7135e627",
   "metadata": {},
   "outputs": [],
   "source": [
    "dtree.fit(xtrain,ytrain)"
   ]
  },
  {
   "cell_type": "code",
   "execution_count": null,
   "id": "c260cb20",
   "metadata": {},
   "outputs": [],
   "source": [
    "predictions = dtree.predict(xtest)"
   ]
  },
  {
   "cell_type": "code",
   "execution_count": null,
   "id": "4b1737c8",
   "metadata": {},
   "outputs": [],
   "source": [
    "print(classification_report(ytest,predictions))"
   ]
  },
  {
   "cell_type": "code",
   "execution_count": null,
   "id": "2376cc51",
   "metadata": {},
   "outputs": [],
   "source": []
  }
 ],
 "metadata": {
  "kernelspec": {
   "display_name": "Python 3 (ipykernel)",
   "language": "python",
   "name": "python3"
  },
  "language_info": {
   "codemirror_mode": {
    "name": "ipython",
    "version": 3
   },
   "file_extension": ".py",
   "mimetype": "text/x-python",
   "name": "python",
   "nbconvert_exporter": "python",
   "pygments_lexer": "ipython3",
   "version": "3.9.12"
  }
 },
 "nbformat": 4,
 "nbformat_minor": 5
}
